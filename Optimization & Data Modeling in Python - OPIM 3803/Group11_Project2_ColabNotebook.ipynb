{
  "nbformat": 4,
  "nbformat_minor": 0,
  "metadata": {
    "colab": {
      "name": "Group11 _Project2_ColabNotebook",
      "provenance": [],
      "collapsed_sections": []
    },
    "kernelspec": {
      "name": "python3",
      "display_name": "Python 3"
    },
    "language_info": {
      "name": "python"
    }
  },
  "cells": [
    {
      "cell_type": "markdown",
      "metadata": {
        "id": "L-zyrbY8gVDB"
      },
      "source": [
        "# Group 11 - Project #2 \n",
        "Julia Petrillo, Daniel Lesh, Robert Fisk, and Bradley Wiseman "
      ]
    },
    {
      "cell_type": "markdown",
      "metadata": {
        "id": "TLk_wZ6WXmui"
      },
      "source": [
        "## **Linear Optimization and Sensitivity Analysis**\n",
        "> Goal: *Maximize Profit on Selling Different Types of Oil Grades*\n",
        "\n",
        "### **Assigned Variables by Brand of Oil** \n",
        "\n",
        "\n",
        "> *Regular Brands*:\n",
        "* C1R = Crude Stock #1 blended with Regular Brand\n",
        "* C2R = Crude Stock #2 blended with Regular Brand\n",
        "* C3R = Crude Stock #3 blended with Regular Brand\n",
        "* C4R = Crude Stock #4 blended with Regular Brand\n",
        "\n",
        "> *Multigrade Brands*:\n",
        "* C1M = Crude Stock #1 blended with Multigrade Brand\n",
        "* C2M = Crude Stock #2 blended with Multigrade Brand\n",
        "* C3M = Crude Stock #3 blended with Multigrade Brand\n",
        "* C4M = Crude Stock #4 blended with Multigrade Brand\n",
        "\n",
        "> *Supreme Brands*:\n",
        "* C1S = Crude Stock #1 blended with Supreme Brand\n",
        "* C2S = Crude Stock #2 blended with Supreme Brand\n",
        "* C3S = Crude Stock #3 blended with Supreme Brand\n",
        "* C4S = Crude Stock #4 blended with Supreme Brand\n",
        "\n",
        "### **Objective Function**\n",
        "\n",
        "> **Maximum Profit = Revenue - Cost**\n",
        "* Daily Revenues = \n",
        "$8.50(C1R + C2R +C3R + C4R) + 9.00(C1M + C2M +C3M + C4M) + 10.00(C1S + C2S +C3S + C4S)$\n",
        "* Daily Costs = \n",
        "$7.10(C1R + C1M + C1S) + 8.50(C2R + C2M +C 2S) + 7.70(C3R + C3M + C3S) + 9.00(C4R + C4M + C4S)$\n",
        " \n",
        "\n",
        "### **Constraints (*Subject To*)**\n",
        "\n",
        "\n",
        "\n",
        "> *Viscosity*:\n",
        "* Regular Brand:\n",
        "$(20C1R + 40C2R + 30C3R + 55C4R)/ (C1R +C2R + C3R + C4R) \\geq 25$\n",
        "  * Simplified: $-5C1R + 15C2R + 5C3R + 30C4R \\geq 0$\n",
        "* Midgrade Brands:\n",
        "$(20C1M + 40C2M + 30C3M + 55C4M)/ (C1M +C2M + C3M + C4M) \\geq 35$\n",
        "  * Simplified: $-15C1M + 5C2M - 5C3M + 15C4M \\geq 0$\n",
        "* Supreme Brands:\n",
        "$(20C1S + 40C2S + 30C3S + 55C4S)/ (C1S +C2S + C3S + C4S) \\geq  50$\n",
        "  * Simplified: $-30C1S - 10C2S - 20C3S + 5C4S \\geq  0$\n",
        "\n",
        "> *Demand*: \n",
        "* $C1R + C2R + C3R + C4R = 2000$\n",
        "* $C1M + C2M + C3M + C4M = 1500$\n",
        "* $C1S + C2S + C3S + C4S = 750$\n",
        "\n",
        "> *Supply*:\n",
        "* $C1R + C1M + C1S \\leq 1000$\n",
        "* $C2R + C2M + C2S \\leq 1100$\n",
        "* $C3R + C3M + C3S \\leq 1200$\n",
        "* $C4R + C4M + C4S \\leq 1100$\n",
        "\n",
        "> Nonnegativity:\n",
        "* $C1R,C1M,C1S,C2R,C2M,C2S,C3R,C3M,C3S,C4R,C4M,C4S \\in \\mathbb{R}^+$\n",
        "\n",
        "\n",
        "\n",
        "\n",
        "\n",
        "\n",
        "\n",
        "\n",
        "\n"
      ]
    },
    {
      "cell_type": "markdown",
      "metadata": {
        "id": "xY7OpPFFaEed"
      },
      "source": [
        "## **Importing Personal Drive and Module to Solve Linear Optimization**\n",
        "\n",
        "\n"
      ]
    },
    {
      "cell_type": "code",
      "metadata": {
        "colab": {
          "base_uri": "https://localhost:8080/"
        },
        "id": "FXvGa0q2gFEu",
        "outputId": "5d879d4b-b5f2-4f79-a067-a7240ae7d8af"
      },
      "source": [
        "# Mount personal Google Drive using folder on the left\n",
        "from google.colab import drive\n",
        "drive.mount('/content/drive')"
      ],
      "execution_count": null,
      "outputs": [
        {
          "output_type": "stream",
          "text": [
            "Mounted at /content/drive\n"
          ],
          "name": "stdout"
        }
      ]
    },
    {
      "cell_type": "code",
      "metadata": {
        "colab": {
          "base_uri": "https://localhost:8080/"
        },
        "id": "CiGcFzb2giQ3",
        "outputId": "3168efc6-a006-4cc5-a845-b803f33cde0f"
      },
      "source": [
        "# Insert program to perform Linear Optimization using the Pyomo Package\n",
        "%matplotlib inline\n",
        "from pylab import *\n",
        "\n",
        "import shutil\n",
        "import sys\n",
        "import os.path\n",
        "\n",
        "if not shutil.which(\"pyomo\"):\n",
        "    !pip install -q pyomo\n",
        "    assert(shutil.which(\"pyomo\"))\n",
        "\n",
        "if not (shutil.which(\"glpsol\") or os.path.isfile(\"glpsol\")):\n",
        "    if \"google.colab\" in sys.modules:\n",
        "        !apt-get install -y -qq glpk-utils\n",
        "    else:\n",
        "        try:\n",
        "            !conda install -c conda-forge ipopt\n",
        "        except:\n",
        "            pass\n",
        "\n",
        "assert(shutil.which(\"glpsol\") or os.path.isfile(\"glpsol\"))\n",
        "\n",
        "from pyomo.environ import *\n",
        "\n",
        "SOLVER = 'glpk'\n",
        "EXECUTABLE = '/usr/bin/glpsol'"
      ],
      "execution_count": 1,
      "outputs": [
        {
          "output_type": "stream",
          "text": [
            "\u001b[K     |████████████████████████████████| 9.5MB 5.2MB/s \n",
            "\u001b[K     |████████████████████████████████| 51kB 5.9MB/s \n",
            "\u001b[K     |████████████████████████████████| 256kB 50.4MB/s \n",
            "\u001b[K     |████████████████████████████████| 163kB 46.0MB/s \n",
            "\u001b[?25hSelecting previously unselected package libsuitesparseconfig5:amd64.\n",
            "(Reading database ... 160983 files and directories currently installed.)\n",
            "Preparing to unpack .../libsuitesparseconfig5_1%3a5.1.2-2_amd64.deb ...\n",
            "Unpacking libsuitesparseconfig5:amd64 (1:5.1.2-2) ...\n",
            "Selecting previously unselected package libamd2:amd64.\n",
            "Preparing to unpack .../libamd2_1%3a5.1.2-2_amd64.deb ...\n",
            "Unpacking libamd2:amd64 (1:5.1.2-2) ...\n",
            "Selecting previously unselected package libcolamd2:amd64.\n",
            "Preparing to unpack .../libcolamd2_1%3a5.1.2-2_amd64.deb ...\n",
            "Unpacking libcolamd2:amd64 (1:5.1.2-2) ...\n",
            "Selecting previously unselected package libglpk40:amd64.\n",
            "Preparing to unpack .../libglpk40_4.65-1_amd64.deb ...\n",
            "Unpacking libglpk40:amd64 (4.65-1) ...\n",
            "Selecting previously unselected package glpk-utils.\n",
            "Preparing to unpack .../glpk-utils_4.65-1_amd64.deb ...\n",
            "Unpacking glpk-utils (4.65-1) ...\n",
            "Setting up libsuitesparseconfig5:amd64 (1:5.1.2-2) ...\n",
            "Setting up libcolamd2:amd64 (1:5.1.2-2) ...\n",
            "Setting up libamd2:amd64 (1:5.1.2-2) ...\n",
            "Setting up libglpk40:amd64 (4.65-1) ...\n",
            "Setting up glpk-utils (4.65-1) ...\n",
            "Processing triggers for libc-bin (2.27-3ubuntu1.2) ...\n",
            "/sbin/ldconfig.real: /usr/local/lib/python3.7/dist-packages/ideep4py/lib/libmkldnn.so.0 is not a symbolic link\n",
            "\n",
            "Processing triggers for man-db (2.8.3-2ubuntu0.1) ...\n"
          ],
          "name": "stdout"
        }
      ]
    },
    {
      "cell_type": "markdown",
      "metadata": {
        "id": "JJPNbK3uhgqK"
      },
      "source": [
        "## **Create Concrete Model and Declare Variables**"
      ]
    },
    {
      "cell_type": "code",
      "metadata": {
        "id": "1T3tsR1whtjQ"
      },
      "source": [
        "# Declare the Model using ConcreteModel() function \n",
        "model = ConcreteModel()\n",
        "\n",
        "### Need to tell Pyomo Package which variables our model has\n",
        "  ##  Use function called Var() and assign its return value to an object of the model \n",
        "    # Assuming we are using any nonnegative real value (i.e. a positive number)\n",
        "# Crude Stock 1 blended with Regular, Multigrade, and Supreme Oil \n",
        "model.C1R = Var(domain=NonNegativeReals)\n",
        "model.C1M = Var(domain=NonNegativeReals)\n",
        "model.C1S = Var(domain=NonNegativeReals)\n",
        "\n",
        "# Crude Stock 2 blended with Regular, Multigrade, and Supreme Oil \n",
        "model.C2R = Var(domain=NonNegativeReals)\n",
        "model.C2M = Var(domain=NonNegativeReals)\n",
        "model.C2S = Var(domain=NonNegativeReals)\n",
        "\n",
        "# Crude Stock 3 blended with Regular, Multigrade, and Supreme Oil \n",
        "model.C3R = Var(domain=NonNegativeReals)\n",
        "model.C3M = Var(domain=NonNegativeReals)\n",
        "model.C3S = Var(domain=NonNegativeReals)\n",
        "\n",
        "# Crude Stock 4 blended with Regular, Multigrade, and Supreme Oil \n",
        "model.C4R = Var(domain=NonNegativeReals)\n",
        "model.C4M = Var(domain=NonNegativeReals)\n",
        "model.C4S = Var(domain=NonNegativeReals)"
      ],
      "execution_count": 12,
      "outputs": []
    },
    {
      "cell_type": "markdown",
      "metadata": {
        "id": "8u2-3YV8oiBq"
      },
      "source": [
        "## **Objective Function and Constraints**\n"
      ]
    },
    {
      "cell_type": "code",
      "metadata": {
        "colab": {
          "base_uri": "https://localhost:8080/"
        },
        "id": "DZw1jIAqovd3",
        "outputId": "2ecbec40-ae72-4a65-9742-91e8951cd324"
      },
      "source": [
        "## Establish the objective of our model \n",
        "  # Objective is to MAXIMIZE Profit \n",
        "model.profit = Objective(\n",
        "                      expr = 8.5*model.C1R + 8.5*model.C2R + 8.5*model.C3R + \n",
        "                      8.5*model.C4R + 9.00*model.C1M + 9.00*model.C2M + \n",
        "                      9.00*model.C3M + 9.00*model.C4M + 10.00*model.C1S + \n",
        "                      10.00*model.C2S + 10.00*model.C3S + 10.00*model.C4S - \n",
        "                      7.10*model.C1R - 7.10*model.C1M - 7.10*model.C1S - \n",
        "                      8.50*model.C2R - 8.50*model.C2M - 8.50*model.C2S - \n",
        "                      7.70*model.C3R - 7.70*model.C3M - 7.70*model.C3S - \n",
        "                      9.00*model.C4R - 9.00*model.C4M - 9.00*model.C4S,\n",
        "                      sense = maximize # 'Sense' indicates whether the problem is minimization or maximization <-- In this problem, we are Maximizing\n",
        "                        )\n",
        "\n",
        "## Constraints that are Subject to Viscosity\n",
        "  # Must use >= to represent the inequality for these set constraints\n",
        "model.RegularBrand = Constraint(expr = (-5*model.C1R) + (15*model.C2R) + (5*model.C3R) + (30*model.C4R) >= 0)\n",
        "model.MultigradeBrand = Constraint(expr = (-15*model.C1M) + (5*model.C2M) - (5*model.C3M) + (15*model.C4M) >= 0)\n",
        "model.SupremeBrand = Constraint(expr = (-30*model.C1S) - (10*model.C2S) - (20*model.C3S) + (5*model.C4S) >= 0)\n",
        "\n",
        "## Constraints that are Subject to Demand\n",
        "  # Must use == to represent the equality for these set constraints\n",
        "model.RegularDemand = Constraint(expr = model.C1R + model.C2R + model.C3R + model.C4R == 2000)\n",
        "model.MultigradeDemand = Constraint(expr = model.C1M + model.C2M + model.C3M + model.C4M == 1500)\n",
        "model.SupremeDemand = Constraint(expr = model.C1S + model.C2S + model.C3S + model.C4S == 750)\n",
        "\n",
        "## Constraints Subject to Supply\n",
        "  # Must use <= to represent the inequality for these set constraints\n",
        "model.CrudeStock1Supply = Constraint(expr = model.C1R+model.C1M+model.C1S <= 1000)\n",
        "model.CrudeStock2Supply = Constraint(expr = model.C2R+model.C2M+model.C2S <= 1100)\n",
        "model.CrudeStock3Supply = Constraint(expr = model.C3R+model.C3M+model.C3S <= 1200)\n",
        "model.CrudeStock4Supply = Constraint(expr = model.C4R+model.C4M+model.C4S <= 1100)\n",
        "\n",
        "# Print the Model! \n",
        "model.pprint()"
      ],
      "execution_count": 13,
      "outputs": [
        {
          "output_type": "stream",
          "text": [
            "12 Var Declarations\n",
            "    C1M : Size=1, Index=None\n",
            "        Key  : Lower : Value : Upper : Fixed : Stale : Domain\n",
            "        None :     0 :  None :  None : False :  True : NonNegativeReals\n",
            "    C1R : Size=1, Index=None\n",
            "        Key  : Lower : Value : Upper : Fixed : Stale : Domain\n",
            "        None :     0 :  None :  None : False :  True : NonNegativeReals\n",
            "    C1S : Size=1, Index=None\n",
            "        Key  : Lower : Value : Upper : Fixed : Stale : Domain\n",
            "        None :     0 :  None :  None : False :  True : NonNegativeReals\n",
            "    C2M : Size=1, Index=None\n",
            "        Key  : Lower : Value : Upper : Fixed : Stale : Domain\n",
            "        None :     0 :  None :  None : False :  True : NonNegativeReals\n",
            "    C2R : Size=1, Index=None\n",
            "        Key  : Lower : Value : Upper : Fixed : Stale : Domain\n",
            "        None :     0 :  None :  None : False :  True : NonNegativeReals\n",
            "    C2S : Size=1, Index=None\n",
            "        Key  : Lower : Value : Upper : Fixed : Stale : Domain\n",
            "        None :     0 :  None :  None : False :  True : NonNegativeReals\n",
            "    C3M : Size=1, Index=None\n",
            "        Key  : Lower : Value : Upper : Fixed : Stale : Domain\n",
            "        None :     0 :  None :  None : False :  True : NonNegativeReals\n",
            "    C3R : Size=1, Index=None\n",
            "        Key  : Lower : Value : Upper : Fixed : Stale : Domain\n",
            "        None :     0 :  None :  None : False :  True : NonNegativeReals\n",
            "    C3S : Size=1, Index=None\n",
            "        Key  : Lower : Value : Upper : Fixed : Stale : Domain\n",
            "        None :     0 :  None :  None : False :  True : NonNegativeReals\n",
            "    C4M : Size=1, Index=None\n",
            "        Key  : Lower : Value : Upper : Fixed : Stale : Domain\n",
            "        None :     0 :  None :  None : False :  True : NonNegativeReals\n",
            "    C4R : Size=1, Index=None\n",
            "        Key  : Lower : Value : Upper : Fixed : Stale : Domain\n",
            "        None :     0 :  None :  None : False :  True : NonNegativeReals\n",
            "    C4S : Size=1, Index=None\n",
            "        Key  : Lower : Value : Upper : Fixed : Stale : Domain\n",
            "        None :     0 :  None :  None : False :  True : NonNegativeReals\n",
            "\n",
            "1 Objective Declarations\n",
            "    profit : Size=1, Index=None, Active=True\n",
            "        Key  : Active : Sense    : Expression\n",
            "        None :   True : maximize : 8.5*C1R + 8.5*C2R + 8.5*C3R + 8.5*C4R + 9.0*C1M + 9.0*C2M + 9.0*C3M + 9.0*C4M + 10.0*C1S + 10.0*C2S + 10.0*C3S + 10.0*C4S - 7.1*C1R - 7.1*C1M - 7.1*C1S - 8.5*C2R - 8.5*C2M - 8.5*C2S - 7.7*C3R - 7.7*C3M - 7.7*C3S - 9.0*C4R - 9.0*C4M - 9.0*C4S\n",
            "\n",
            "10 Constraint Declarations\n",
            "    CrudeStock1Supply : Size=1, Index=None, Active=True\n",
            "        Key  : Lower : Body            : Upper  : Active\n",
            "        None :  -Inf : C1R + C1M + C1S : 1000.0 :   True\n",
            "    CrudeStock2Supply : Size=1, Index=None, Active=True\n",
            "        Key  : Lower : Body            : Upper  : Active\n",
            "        None :  -Inf : C2R + C2M + C2S : 1100.0 :   True\n",
            "    CrudeStock3Supply : Size=1, Index=None, Active=True\n",
            "        Key  : Lower : Body            : Upper  : Active\n",
            "        None :  -Inf : C3R + C3M + C3S : 1200.0 :   True\n",
            "    CrudeStock4Supply : Size=1, Index=None, Active=True\n",
            "        Key  : Lower : Body            : Upper  : Active\n",
            "        None :  -Inf : C4R + C4M + C4S : 1100.0 :   True\n",
            "    MultigradeBrand : Size=1, Index=None, Active=True\n",
            "        Key  : Lower : Body                             : Upper : Active\n",
            "        None :   0.0 : -15*C1M + 5*C2M - 5*C3M + 15*C4M :  +Inf :   True\n",
            "    MultigradeDemand : Size=1, Index=None, Active=True\n",
            "        Key  : Lower  : Body                  : Upper  : Active\n",
            "        None : 1500.0 : C1M + C2M + C3M + C4M : 1500.0 :   True\n",
            "    RegularBrand : Size=1, Index=None, Active=True\n",
            "        Key  : Lower : Body                             : Upper : Active\n",
            "        None :   0.0 : -5*C1R + 15*C2R + 5*C3R + 30*C4R :  +Inf :   True\n",
            "    RegularDemand : Size=1, Index=None, Active=True\n",
            "        Key  : Lower  : Body                  : Upper  : Active\n",
            "        None : 2000.0 : C1R + C2R + C3R + C4R : 2000.0 :   True\n",
            "    SupremeBrand : Size=1, Index=None, Active=True\n",
            "        Key  : Lower : Body                              : Upper : Active\n",
            "        None :   0.0 : -30*C1S - 10*C2S - 20*C3S + 5*C4S :  +Inf :   True\n",
            "    SupremeDemand : Size=1, Index=None, Active=True\n",
            "        Key  : Lower : Body                  : Upper : Active\n",
            "        None : 750.0 : C1S + C2S + C3S + C4S : 750.0 :   True\n",
            "\n",
            "23 Declarations: C1R C1M C1S C2R C2M C2S C3R C3M C3S C4R C4M C4S profit RegularBrand MultigradeBrand SupremeBrand RegularDemand MultigradeDemand SupremeDemand CrudeStock1Supply CrudeStock2Supply CrudeStock3Supply CrudeStock4Supply\n"
          ],
          "name": "stdout"
        }
      ]
    },
    {
      "cell_type": "markdown",
      "metadata": {
        "id": "aeIo2vVVlSYx"
      },
      "source": [
        "## **Solve Objective Function**"
      ]
    },
    {
      "cell_type": "code",
      "metadata": {
        "colab": {
          "base_uri": "https://localhost:8080/"
        },
        "id": "l3vB8yKElaZN",
        "outputId": "6d938b56-1e38-45c1-b3d3-53092316337d"
      },
      "source": [
        "# Solve Model with Solver Command --> this is similar to the same function our Excel model performs when utilizing the Solver Plug-In \n",
        "SolverFactory(SOLVER, executable=EXECUTABLE).solve(model).write()\n",
        "\n",
        "# Show the results by printing names along with values produced from the model \n",
        "print(\"Maximum Profit = \", model.profit(), \"per day\") # 'Maximum Profit' because this is a maximization problem\n",
        "print(\"Regular Brand = \", model.RegularDemand(), \"units per day\")\n",
        "print(\"Multigrade Brand = \", model.MultigradeDemand(), \"units per day\")\n",
        "print(\"Supreme Brand = \", model.SupremeDemand(), \"units per day\")\n",
        "print(\"Crude Stock 1 = \", model.CrudeStock1Supply(), \"units per day\")\n",
        "print(\"Crude Stock 2 = \", model.CrudeStock2Supply(), \"units per day\")\n",
        "print(\"Crude Stock 3 = \", model.CrudeStock3Supply(), \"units per day\")\n",
        "print(\"Crude Stock 4 = \", model.CrudeStock4Supply(), \"units per day\")"
      ],
      "execution_count": 14,
      "outputs": [
        {
          "output_type": "stream",
          "text": [
            "# ==========================================================\n",
            "# = Solver Results                                         =\n",
            "# ==========================================================\n",
            "# ----------------------------------------------------------\n",
            "#   Problem Information\n",
            "# ----------------------------------------------------------\n",
            "Problem: \n",
            "- Name: unknown\n",
            "  Lower bound: 3760.0\n",
            "  Upper bound: 3760.0\n",
            "  Number of objectives: 1\n",
            "  Number of constraints: 11\n",
            "  Number of variables: 13\n",
            "  Number of nonzeros: 37\n",
            "  Sense: maximize\n",
            "# ----------------------------------------------------------\n",
            "#   Solver Information\n",
            "# ----------------------------------------------------------\n",
            "Solver: \n",
            "- Status: ok\n",
            "  Termination condition: optimal\n",
            "  Statistics: \n",
            "    Branch and bound: \n",
            "      Number of bounded subproblems: 0\n",
            "      Number of created subproblems: 0\n",
            "  Error rc: 0\n",
            "  Time: 0.016382217407226562\n",
            "# ----------------------------------------------------------\n",
            "#   Solution Information\n",
            "# ----------------------------------------------------------\n",
            "Solution: \n",
            "- number of solutions: 0\n",
            "  number of solutions displayed: 0\n",
            "Maximum Profit =  3760.0000000000036 per day\n",
            "Regular Brand =  2000.0 units per day\n",
            "Multigrade Brand =  1499.9999999999998 units per day\n",
            "Supreme Brand =  750.0 units per day\n",
            "Crude Stock 1 =  1000.0 units per day\n",
            "Crude Stock 2 =  1099.9999999999998 units per day\n",
            "Crude Stock 3 =  1200.0 units per day\n",
            "Crude Stock 4 =  950.0 units per day\n"
          ],
          "name": "stdout"
        }
      ]
    },
    {
      "cell_type": "markdown",
      "metadata": {
        "id": "7q1DDNzOtoS2"
      },
      "source": [
        "> #### **Solver Results**\n",
        "\n",
        "* Maxmimum Profit = $3,760 per day\n",
        "* Regular Brand Oil = 2,000 units per day\n",
        "* Multigrade Brand Oil = 1,499.99 units per day \n",
        "* Supreme Brand Oil = 750 units per day \n",
        "* Crude Stock 1 = 1,000 units per day \n",
        "* Crude Stock 2 = 1,099.99 units per day \n",
        "* Crude Stock 3 = 1,200 units per day \n",
        "* Crude Stock 4 = 950 units per day \n",
        "\n"
      ]
    },
    {
      "cell_type": "markdown",
      "metadata": {
        "id": "bRPDlAIQycFz"
      },
      "source": [
        "## **Perform Sensitivity Analysis**"
      ]
    },
    {
      "cell_type": "code",
      "metadata": {
        "colab": {
          "base_uri": "https://localhost:8080/"
        },
        "id": "WvBWGIh8ylyC",
        "outputId": "35c0beb9-f782-4603-86da-6273e1d7a14e"
      },
      "source": [
        "# Save the LP Model that was built\n",
        "model.write(\"/content/model.lp\", io_options={'symbolic_solver_labels': True}) # model.lp file will run after executing line of code \n",
        "\n",
        "# Generate the file \"sensit.sen\", which contains the report \n",
        "!/usr/bin/glpsol -m /content/model.lp --lp --ranges sensit.sen # Will use \"sensit.sen\" to run report built for sensitivity analysis \n",
        "\n",
        "#Running code below to see the contents of the sensitivity analysis report\n",
        "!cat /content/sensit.sen"
      ],
      "execution_count": 15,
      "outputs": [
        {
          "output_type": "stream",
          "text": [
            "GLPSOL: GLPK LP/MIP Solver, v4.65\n",
            "Parameter(s) specified in the command line:\n",
            " -m /content/model.lp --lp --ranges sensit.sen\n",
            "Reading problem data from '/content/model.lp'...\n",
            "11 rows, 13 columns, 37 non-zeros\n",
            "100 lines were read\n",
            "GLPK Simplex Optimizer, v4.65\n",
            "11 rows, 13 columns, 37 non-zeros\n",
            "Preprocessing...\n",
            "10 rows, 12 columns, 36 non-zeros\n",
            "Scaling...\n",
            " A: min|aij| =  1.000e+00  max|aij| =  3.000e+01  ratio =  3.000e+01\n",
            "GM: min|aij| =  6.389e-01  max|aij| =  1.565e+00  ratio =  2.449e+00\n",
            "EQ: min|aij| =  4.082e-01  max|aij| =  1.000e+00  ratio =  2.449e+00\n",
            "Constructing initial basis...\n",
            "Size of triangular part is 10\n",
            "      0: obj =   7.500000000e+02 inf =   1.419e+03 (2)\n",
            "      3: obj =   3.520000000e+03 inf =   0.000e+00 (0)\n",
            "*     6: obj =   3.760000000e+03 inf =   0.000e+00 (0)\n",
            "OPTIMAL LP SOLUTION FOUND\n",
            "Time used:   0.0 secs\n",
            "Memory used: 0.0 Mb (43461 bytes)\n",
            "Write sensitivity analysis report to 'sensit.sen'...\n",
            "GLPK 4.65 - SENSITIVITY ANALYSIS REPORT                                                                         Page   1\n",
            "\n",
            "Problem:    \n",
            "Objective:  profit = 3760 (MAXimum)\n",
            "\n",
            "   No. Row name     St      Activity         Slack   Lower bound       Activity      Obj coef  Obj value at Limiting\n",
            "                                          Marginal   Upper bound          range         range   break point variable\n",
            "------ ------------ -- ------------- ------------- -------------  ------------- ------------- ------------- ------------\n",
            "     1 c_l_RegularBrand_\n",
            "                    BS    9250.00000   -9250.00000        .          7500.00000        .         3760.00000 C2M\n",
            "                                            .               +Inf    10375.00000        .         3760.00000 C4R\n",
            "\n",
            "     2 c_l_MultigradeBrand_\n",
            "                    NL        .             .             .         -1500.00000          -Inf    3760.00000 C3R\n",
            "                                            .               +Inf     1500.00000        .         3760.00000 c_l_SupremeBrand_\n",
            "\n",
            "     3 c_l_SupremeBrand_\n",
            "                    BS    1125.00000   -1125.00000        .         -7500.00000        .         3760.00000 C4R\n",
            "                                            .               +Inf     3750.00000        .         3760.00000 C2M\n",
            "\n",
            "     4 c_e_RegularDemand_\n",
            "                    NS    2000.00000        .         2000.00000     1925.00000          -Inf    3797.50000 c_l_SupremeBrand_\n",
            "                                           -.50000    2000.00000     2150.00000          +Inf    3685.00000 c_u_CrudeStock4Supply_\n",
            "\n",
            "     5 c_e_MultigradeDemand_\n",
            "                    NS    1500.00000        .         1500.00000     1400.00000          -Inf    3760.00000 c_l_SupremeBrand_\n",
            "                                            .         1500.00000     1600.00000          +Inf    3760.00000 C3R\n",
            "\n",
            "     6 c_e_SupremeDemand_\n",
            "                    NS     750.00000        .          750.00000      525.00000          -Inf    3535.00000 c_l_SupremeBrand_\n",
            "                                           1.00000     750.00000      900.00000          +Inf    3910.00000 c_u_CrudeStock4Supply_\n",
            "\n",
            "     7 c_u_CrudeStock1Supply_\n",
            "                    NU    1000.00000        .               -Inf      850.00000      -1.90000    3475.00000 c_u_CrudeStock4Supply_\n",
            "                                           1.90000    1000.00000     1075.00000          +Inf    3902.50000 c_l_SupremeBrand_\n",
            "\n",
            "     8 c_u_CrudeStock2Supply_\n",
            "                    NU    1100.00000        .               -Inf      950.00000       -.50000    3685.00000 c_u_CrudeStock4Supply_\n",
            "                                            .50000    1100.00000     1175.00000          +Inf    3797.50000 c_l_SupremeBrand_\n",
            "\n",
            "     9 c_u_CrudeStock3Supply_\n",
            "                    NU    1200.00000        .               -Inf     1125.00000      -1.30000    3662.50000 C3R\n",
            "                                           1.30000    1200.00000     1275.00000          +Inf    3857.50000 c_l_SupremeBrand_\n",
            "\n",
            "    10 c_u_CrudeStock4Supply_\n",
            "                    BS     950.00000     150.00000          -Inf      950.00000          -Inf          -Inf\n",
            "                                            .         1100.00000     1125.00000        .50000    4235.00000 c_u_CrudeStock2Supply_\n",
            "\n",
            "GLPK 4.65 - SENSITIVITY ANALYSIS REPORT                                                                         Page   2\n",
            "\n",
            "Problem:    \n",
            "Objective:  profit = 3760 (MAXimum)\n",
            "\n",
            "   No. Row name     St      Activity         Slack   Lower bound       Activity      Obj coef  Obj value at Limiting\n",
            "                                          Marginal   Upper bound          range         range   break point variable\n",
            "------ ------------ -- ------------- ------------- -------------  ------------- ------------- ------------- ------------\n",
            "    11 c_e_ONE_VAR_CONSTANT\n",
            "                    NS       1.00000        .            1.00000         .               -Inf    3760.00000 ONE_VAR_CONSTANT\n",
            "                                            .            1.00000           +Inf          +Inf    3760.00000\n",
            "\n",
            "GLPK 4.65 - SENSITIVITY ANALYSIS REPORT                                                                         Page   3\n",
            "\n",
            "Problem:    \n",
            "Objective:  profit = 3760 (MAXimum)\n",
            "\n",
            "   No. Column name  St      Activity      Obj coef   Lower bound       Activity      Obj coef  Obj value at Limiting\n",
            "                                          Marginal   Upper bound          range         range   break point variable\n",
            "------ ------------ -- ------------- ------------- -------------  ------------- ------------- ------------- ------------\n",
            "     1 C1M          NL        .            1.90000        .           -50.00000          -Inf    3760.00000 C3R\n",
            "                                            .               +Inf      150.00000       1.90000    3760.00000 c_l_SupremeBrand_\n",
            "\n",
            "     2 C1R          BS    1000.00000       1.40000        .           850.00000       1.40000    3760.00000 C1M\n",
            "                                            .               +Inf     1000.00000          +Inf          +Inf\n",
            "\n",
            "     3 C1S          NL        .            2.90000        .          -462.50000          -Inf    3760.00000 c_l_RegularBrand_\n",
            "                                            .               +Inf       56.25000       2.90000    3760.00000 c_l_SupremeBrand_\n",
            "\n",
            "     4 C2M          NL        .             .50000        .          -150.00000          -Inf    3760.00000 C3R\n",
            "                                            .               +Inf      350.00000        .50000    3760.00000 C2S\n",
            "\n",
            "     5 C2S          BS     175.00000       1.50000        .          -200.00000       1.50000    3760.00000 C2M\n",
            "                                            .               +Inf      250.00000       1.50000    3760.00000 C4R\n",
            "\n",
            "     6 C3M          BS    1125.00000       1.30000        .           900.00000       1.30000    3760.00000 C1M\n",
            "                                            .               +Inf     1125.00000          +Inf          +Inf\n",
            "\n",
            "     7 C3R          BS      75.00000        .80000        .           -37.50000        .80000    3760.00000 C3S\n",
            "                                            .               +Inf      300.00000        .80000    3760.00000 C1M\n",
            "\n",
            "     8 C3S          NL        .            2.30000        .          -925.00000          -Inf    3760.00000 C2R\n",
            "                                            .               +Inf       75.00000       2.30000    3760.00000 C3R\n",
            "\n",
            "     9 C4R          NL        .            -.50000        .          -175.00000          -Inf    3760.00000 C2S\n",
            "                                            .               +Inf       75.00000       -.50000    3760.00000 c_l_SupremeBrand_\n",
            "\n",
            "    10 C4S          BS     575.00000       1.00000        .           500.00000       1.00000    3760.00000 C4R\n",
            "                                            .               +Inf      750.00000       1.00000    3760.00000 C2M\n",
            "\n",
            "GLPK 4.65 - SENSITIVITY ANALYSIS REPORT                                                                         Page   4\n",
            "\n",
            "Problem:    \n",
            "Objective:  profit = 3760 (MAXimum)\n",
            "\n",
            "   No. Column name  St      Activity      Obj coef   Lower bound       Activity      Obj coef  Obj value at Limiting\n",
            "                                          Marginal   Upper bound          range         range   break point variable\n",
            "------ ------------ -- ------------- ------------- -------------  ------------- ------------- ------------- ------------\n",
            "    11 C2R          BS     925.00000        .             .           850.00000        .         3760.00000 C4R\n",
            "                                            .               +Inf      981.25000        .         3760.00000 C1S\n",
            "\n",
            "    12 C4M          BS     375.00000        .             .           200.00000        .         3760.00000 C2M\n",
            "                                            .               +Inf      450.00000        .         3760.00000 C1M\n",
            "\n",
            "    13 ONE_VAR_CONSTANT\n",
            "                    BS       1.00000        .             .             1.00000          -Inf          -Inf\n",
            "                                            .               +Inf        1.00000          +Inf          +Inf\n",
            "\n",
            "End of report\n"
          ],
          "name": "stdout"
        }
      ]
    },
    {
      "cell_type": "code",
      "metadata": {
        "colab": {
          "base_uri": "https://localhost:8080/"
        },
        "id": "ZZWFvd43wyi_",
        "outputId": "c165f5d7-922b-454e-f94d-4a74bdeb6fe7"
      },
      "source": [
        "# Obtain dual solutions from first solve and send to warm start\n",
        "model.dual = Suffix(direction=Suffix.IMPORT_EXPORT)\n",
        "\n",
        "# Obtain dual solutions from first solve and send to warm start\n",
        "model.rc = Suffix(direction=Suffix.IMPORT_EXPORT)\n",
        "\n",
        "# Obtain dual solutions from first solve and send to warm start\n",
        "model.slack = Suffix(direction=Suffix.IMPORT_EXPORT)\n",
        "\n",
        "# Solve the problem and show the results\n",
        "SolverFactory(SOLVER,executable=EXECUTABLE).solve(model).write()\n",
        "print(\"Maximum Profit = \", model.profit(), \"per day\") # 'Maximum Profit' because this is a maximization problem\n",
        "print(\"Regular Brand = \", model.RegularDemand(), \"units per day\")\n",
        "print(\"Multigrade Brand = \", model.MultigradeDemand(), \"units per day\")\n",
        "print(\"Supreme Brand = \", model.SupremeDemand(), \"units per day\")\n",
        "print(\"Crude Stock 1 = \", model.CrudeStock1Supply(), \"units per day\")\n",
        "print(\"Crude Stock 2 = \", model.CrudeStock2Supply(), \"units per day\")\n",
        "print(\"Crude Stock 3 = \", model.CrudeStock3Supply(), \"units per day\")\n",
        "print(\"Crude Stock 4 = \", model.CrudeStock4Supply(), \"units per day\")"
      ],
      "execution_count": 17,
      "outputs": [
        {
          "output_type": "stream",
          "text": [
            "# ==========================================================\n",
            "# = Solver Results                                         =\n",
            "# ==========================================================\n",
            "# ----------------------------------------------------------\n",
            "#   Problem Information\n",
            "# ----------------------------------------------------------\n",
            "Problem: \n",
            "- Name: unknown\n",
            "  Lower bound: 3760.0\n",
            "  Upper bound: 3760.0\n",
            "  Number of objectives: 1\n",
            "  Number of constraints: 11\n",
            "  Number of variables: 13\n",
            "  Number of nonzeros: 37\n",
            "  Sense: maximize\n",
            "# ----------------------------------------------------------\n",
            "#   Solver Information\n",
            "# ----------------------------------------------------------\n",
            "Solver: \n",
            "- Status: ok\n",
            "  Termination condition: optimal\n",
            "  Statistics: \n",
            "    Branch and bound: \n",
            "      Number of bounded subproblems: 0\n",
            "      Number of created subproblems: 0\n",
            "  Error rc: 0\n",
            "  Time: 0.0130462646484375\n",
            "# ----------------------------------------------------------\n",
            "#   Solution Information\n",
            "# ----------------------------------------------------------\n",
            "Solution: \n",
            "- number of solutions: 0\n",
            "  number of solutions displayed: 0\n",
            "Maximum Profit =  3760.0000000000036 per day\n",
            "Regular Brand =  2000.0 units per day\n",
            "Multigrade Brand =  1499.9999999999998 units per day\n",
            "Supreme Brand =  750.0 units per day\n",
            "Crude Stock 1 =  1000.0 units per day\n",
            "Crude Stock 2 =  1099.9999999999998 units per day\n",
            "Crude Stock 3 =  1200.0 units per day\n",
            "Crude Stock 4 =  950.0 units per day\n"
          ],
          "name": "stdout"
        }
      ]
    },
    {
      "cell_type": "code",
      "metadata": {
        "colab": {
          "base_uri": "https://localhost:8080/"
        },
        "id": "aiuaiYWsx1nK",
        "outputId": "b3507f45-cb8a-4968-acda-6d4e4dbc2b7d"
      },
      "source": [
        "print('\\nShadow Prices')\n",
        "\n",
        "# Print(\"Constraint \",model.demand())\n",
        "print('Regular Brand:')\n",
        "print('\\tShadow Price = ', model.dual[model.RegularDemand]) # Displays shadow price\n",
        "print('\\tUpper slack = ', model.RegularDemand.uslack() ) # Displays upper slack\n",
        "print('\\tLower slack = ', model.RegularDemand.lslack()) # Displays lower slack\n",
        "\n",
        "print('Multigrade Brand:')\n",
        "print('\\tShadow Price = ', model.dual[model.MultigradeDemand]) # Displays shadow price\n",
        "print('\\tUpper slack = ', model.MultigradeDemand.uslack() ) # Displays upper slack\n",
        "print('\\tLower slack = ', model.MultigradeDemand.lslack()) # Displays lower slack\n",
        "\n",
        "print('Supreme Brand:')\n",
        "print('\\tShadow Price = ', model.dual[model.SupremeDemand]) # Displays shadow price\n",
        "print('\\tUpper slack = ', model.SupremeDemand.uslack() ) # Displays upper slack\n",
        "print('\\tLower slack = ', model.SupremeDemand.lslack()) # Displays lower slack"
      ],
      "execution_count": 18,
      "outputs": [
        {
          "output_type": "stream",
          "text": [
            "\n",
            "Shadow Prices\n",
            "Regular Brand:\n",
            "\tShadow Price =  -0.5\n",
            "\tUpper slack =  0.0\n",
            "\tLower slack =  0.0\n",
            "Multigrade Brand:\n",
            "\tShadow Price =  0.0\n",
            "\tUpper slack =  2.2737367544323206e-13\n",
            "\tLower slack =  -2.2737367544323206e-13\n",
            "Supreme Brand:\n",
            "\tShadow Price =  1.0\n",
            "\tUpper slack =  0.0\n",
            "\tLower slack =  0.0\n"
          ],
          "name": "stdout"
        }
      ]
    },
    {
      "cell_type": "code",
      "metadata": {
        "colab": {
          "base_uri": "https://localhost:8080/"
        },
        "id": "FzlI283O02if",
        "outputId": "721b5e6a-0fd0-4a98-8b5e-25bb6d204eb9"
      },
      "source": [
        "print('\\nShadow Prices')\n",
        "\n",
        "# Print(\"Constraint \",model.supply())\n",
        "print('Crude Stock #1 Supply:')\n",
        "print('\\tShadow Price = ', model.dual[model.CrudeStock1Supply]) # Displays shadow price\n",
        "print('\\tUpper slack = ', model.CrudeStock1Supply.uslack() ) # Displays shadow price\n",
        "print('\\tLower slack = ', model.CrudeStock1Supply.lslack()) # Displays shadow price\n",
        "\n",
        "print('Crude Stock #2 Supply:')\n",
        "print('\\tShadow Price = ', model.dual[model.CrudeStock2Supply]) # Displays shadow price\n",
        "print('\\tUpper slack = ', model.CrudeStock2Supply.uslack() ) # Displays shadow price\n",
        "print('\\tLower slack = ', model.CrudeStock2Supply.lslack()) # Displays shadow price\n",
        "\n",
        "print('Crude Stock #3 Supply:')\n",
        "print('\\tShadow Price = ', model.dual[model.CrudeStock3Supply]) # Displays shadow price\n",
        "print('\\tUpper slack = ', model.CrudeStock3Supply.uslack() ) # Displays shadow price\n",
        "print('\\tLower slack = ', model.CrudeStock3Supply.lslack()) # Displays shadow price\n",
        "\n",
        "print('Crude Stock #4 Supply:')\n",
        "print('\\tShadow Price = ', model.dual[model.CrudeStock4Supply]) # Displays shadow price\n",
        "print('\\tUpper slack = ', model.CrudeStock4Supply.uslack() ) # Displays shadow price\n",
        "print('\\tLower slack = ', model.CrudeStock4Supply.lslack()) # Displays shadow price\n"
      ],
      "execution_count": 19,
      "outputs": [
        {
          "output_type": "stream",
          "text": [
            "\n",
            "Shadow Prices\n",
            "Crude Stock #1 Supply:\n",
            "\tShadow Price =  1.9\n",
            "\tUpper slack =  0.0\n",
            "\tLower slack =  inf\n",
            "Crude Stock #2 Supply:\n",
            "\tShadow Price =  0.5\n",
            "\tUpper slack =  2.2737367544323206e-13\n",
            "\tLower slack =  inf\n",
            "Crude Stock #3 Supply:\n",
            "\tShadow Price =  1.3\n",
            "\tUpper slack =  0.0\n",
            "\tLower slack =  inf\n",
            "Crude Stock #4 Supply:\n",
            "\tShadow Price =  0.0\n",
            "\tUpper slack =  150.0\n",
            "\tLower slack =  inf\n"
          ],
          "name": "stdout"
        }
      ]
    }
  ]
}
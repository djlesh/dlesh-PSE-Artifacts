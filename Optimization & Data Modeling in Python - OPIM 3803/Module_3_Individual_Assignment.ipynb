{
  "nbformat": 4,
  "nbformat_minor": 0,
  "metadata": {
    "colab": {
      "name": "Module_3_Individual_Assignment.ipynb",
      "provenance": [],
      "collapsed_sections": []
    },
    "kernelspec": {
      "name": "python3",
      "display_name": "Python 3"
    }
  },
  "cells": [
    {
      "cell_type": "markdown",
      "metadata": {
        "id": "nV-1BvuYY_hD"
      },
      "source": [
        "# Individual Assignment 3: Graphical Method and Simplex Algorithm\n",
        "\n",
        "# Name: Daniel Lesh \n",
        "\n",
        "# NetID: djl17006\n",
        "\n",
        "---------------------------------------------------------------------------\n",
        "**Directions:** Here are some practice problems for you to work on to ensure mastery of the material. \n",
        "\n",
        "You may work with your fellow classmates, but you need to complete the assignment on your own. I expect different headers and COMMENTS (comments are the key to showing that you really know your stuff - without comments, your code is useless to me).\n",
        "\n",
        "**Rubric:**\n",
        "* Graphical Method (50 pts). To receive full credit, you must include all proper headers from the class examples. Plot the constraints on the graph with shading in proper areas; identify the feasible region with text; find corner points and plot them (intersection of the lines/constraints); and evaluation of the corner points. Answers have been provided to you so you can check your work.\n",
        "\n",
        "* Simplex Method (50 points). To receive full credit, you must include all proper headers from the class examples for Simplex. Build the initial tableau (and color code the entering, departing variable and make pivot element yellow); use as many pivot operations as necessary; declare the final solution. Almost every line should have an original comment from you... otherwise, no credit. "
      ]
    },
    {
      "cell_type": "markdown",
      "metadata": {
        "id": "jZNpgZwn--m_"
      },
      "source": [
        "## Import Personal Google Drive"
      ]
    },
    {
      "cell_type": "code",
      "metadata": {
        "colab": {
          "base_uri": "https://localhost:8080/"
        },
        "id": "G8U2-v4WEwow",
        "outputId": "a48d3361-6e59-4cb3-82f8-4c51038177e0"
      },
      "source": [
        "from google.colab import drive # Import personal drive\n",
        "drive.mount('/content/drive')"
      ],
      "execution_count": 24,
      "outputs": [
        {
          "output_type": "stream",
          "text": [
            "Drive already mounted at /content/drive; to attempt to forcibly remount, call drive.mount(\"/content/drive\", force_remount=True).\n"
          ],
          "name": "stdout"
        }
      ]
    },
    {
      "cell_type": "markdown",
      "metadata": {
        "id": "ztTznyIXZK_K"
      },
      "source": [
        "# Practice Problem 1: Graphical Method\n",
        "Solve the following LP model using the graphical method.\n",
        "\n",
        "$Max(Z) = 30X + 40Y$\n",
        "\n",
        "subject to:\n",
        "* $4X + 2Y <= 16$\n",
        "* $Y <= 2$\n",
        "* $2X - Y >= 2$\n",
        "* $X,Y >= 0$ (nonnegativity)\n",
        "\n",
        "This one is a little tricky - if you have trouble shading the graph, try evaluating a sample point on each side of the line and see if it's valid!\n",
        "\n",
        "The answer is $X=3$, $Y=2$ and $Z = 170$.\n"
      ]
    },
    {
      "cell_type": "markdown",
      "metadata": {
        "id": "lDQnmUaxyAN4"
      },
      "source": [
        "# Practice Problem 1 Answer"
      ]
    },
    {
      "cell_type": "markdown",
      "metadata": {
        "id": "dm2CUclc3WGZ"
      },
      "source": [
        "Import Packages for Graphing and Plotting "
      ]
    },
    {
      "cell_type": "code",
      "metadata": {
        "id": "FVJXPzbm-p_3"
      },
      "source": [
        "# Import modules for: EDA, numeric functions, and plotting\n",
        "import pandas as pd # For EDA\n",
        "import numpy as np # For numeric functions\n",
        "import matplotlib.pyplot as plt # For plotting\n",
        "import seaborn as sns # For creating interprative graphs (boxplots)"
      ],
      "execution_count": 25,
      "outputs": []
    },
    {
      "cell_type": "code",
      "metadata": {
        "id": "zXUfwXLgyIhU"
      },
      "source": [
        "%matplotlib inline\n",
        "from pylab import * # Package for graphing\n",
        "\n",
        "import shutil # Package for graphing\n",
        "import sys # Package for OS on sys\n",
        "import os.path # Package for path OS on sys\n",
        "\n",
        "if not shutil.which(\"pyomo\"):\n",
        "    !pip install -q pyomo\n",
        "    assert(shutil.which(\"pyomo\")) # Providing command that if shutil package is not called, pyomo is called \n",
        "\n",
        "if not (shutil.which(\"cbc\") or os.path.isfile(\"cbc\")): # Providing command that if shutil package is not called, cbc is called \n",
        "    if \"google.colab\" in sys.modules:\n",
        "        !apt-get install -y -qq coinor-cbc\n",
        "    else:\n",
        "        try:\n",
        "            !conda install -c conda-forge coincbc \n",
        "        except:\n",
        "            pass\n",
        "\n",
        "assert(shutil.which(\"cbc\") or os.path.isfile(\"cbc\"))\n",
        "\n",
        "from pyomo.environ import *"
      ],
      "execution_count": 26,
      "outputs": []
    },
    {
      "cell_type": "markdown",
      "metadata": {
        "id": "7VpRJBnF_FpH"
      },
      "source": [
        "Create Plot and Declare Solution"
      ]
    },
    {
      "cell_type": "code",
      "metadata": {
        "id": "qLh5fgO14B7P",
        "colab": {
          "base_uri": "https://localhost:8080/",
          "height": 409
        },
        "outputId": "761dfc0c-0f16-4985-dbea-dfff5a21e4c8"
      },
      "source": [
        "# Set up size for plot \n",
        "figure(figsize=(6,6)) # Setting up figure size (6,6) as standard\n",
        "subplot(111, aspect='equal') # Set up subplot size\n",
        "axis([0,10,0,10]) # Keeping plot axis' relatively small to make graph clearer when plotting \n",
        "xlabel('X-Axis') # No labels given, provided name for it as \"X-Axis\"\n",
        "ylabel('Y-Axis') # No labels given, provided name for it as \"Y-Axis\"\n",
        "\n",
        "# 4𝑋 + 2𝑌 <= 16 --> Constraint #1 \n",
        "y = array([8, 0]) # Y values maximum plot = 8\n",
        "x = array([0, 4]) # X values maximum plot = 4\n",
        "plot(x,y,'r',lw=2) # Red line is plotted on the graph to show values that meet this constraint \n",
        "fill_between([0,4,10], # X area being shaded in \n",
        "             [8,0,0], # Y area being shaded in\n",
        "             [10,10,10], # Upper area\n",
        "             color='red', # Color \n",
        "             alpha=0.15) # Transparency\n",
        "\n",
        "# 𝑌 <= 2 (horizontal line) --> Constraint #2 \n",
        "y = array([2, 2]) # Y values maximum plot = 2\n",
        "x = array([10, 0]) # No value of X will change the outcome of the constraint. All values are included within the range of our graph\n",
        "plot(x,y,'orange',lw=2) # Horizontal line is plotted on the graph to show values that meet this constraint on the graph\n",
        "fill_between([0,10,10], # X area being shaded in \n",
        "             [2, 2,0], # Y area being shaded in\n",
        "             [10,10,10], # Upper area\n",
        "             color='green', # Color \n",
        "             alpha=0.15) # Transparency\n",
        "\n",
        "# 2𝑋 − 𝑌 >= 2 --> Constraint #3\n",
        "y = array([-2, 0]) # Y values maximum plot = 2\n",
        "x = array([0, 1]) # X values maximum plot = 1\n",
        "plot(x,y,'black',lw=2) # Plotting black line on graph to indicate acceptable values on line that meet this constraint\n",
        "fill_between([0,1], # X area being shaded in \n",
        "             [2,0], # Y area being shaded in\n",
        "             [0,0], # Upper area\n",
        "             color='grey', # Color \n",
        "             alpha=0.15) # Transparency\n",
        "\n",
        "### Build legend to show which constraint is which\n",
        "  ## Reminder of Constraints: \n",
        "    # Constraint #1 --> 4𝑋 + 2𝑌 <= 16\n",
        "    # Constraint #2 --> 𝑌 <= 2 (horizontal line)\n",
        "    # Constraint #3 --> 2𝑋 − 𝑌 >= 2\n",
        "legend(['Constraint #1','Constraint #2','Constraint #3'])\n",
        "\n",
        "## Plots 'FR' in the feasible region area \n",
        "  # 'FR' = Feasible Region \n",
        "  # 'FR' located @ (2.5,1) \n",
        "text(2.5,1,'FR')\n",
        "\n",
        "## Adding sample point to evaluate (3, 2)\n",
        "  # This is our Max Profit point \n",
        "plot(3,2,'b.',ms=15) # Makes a blue dot at point (3,2)\n",
        "annotate('(3, 2)', xy=(3,2), xytext=(3,2)) # Adds label --> '(3,2)' to the blue dot we just made"
      ],
      "execution_count": 51,
      "outputs": [
        {
          "output_type": "execute_result",
          "data": {
            "text/plain": [
              "Text(3, 2, '(3, 2)')"
            ]
          },
          "metadata": {
            "tags": []
          },
          "execution_count": 51
        },
        {
          "output_type": "display_data",
          "data": {
            "image/png": "[encoded data removed]",
            "text/plain": [
              "<Figure size 432x432 with 1 Axes>"
            ]
          },
          "metadata": {
            "tags": [],
            "needs_background": "light"
          }
        }
      ]
    },
    {
      "cell_type": "markdown",
      "metadata": {
        "id": "_I9dHaVH2eGC"
      },
      "source": [
        "# Practice Problem 2: Simplex Method\n",
        "\n",
        "Solve the following LP model using the simplex method.\n",
        "\n",
        "$Max(Z) = 5X + 4Y$\n",
        "\n",
        "subject to:\n",
        "* $3X + 5Y <= 78$\n",
        "* $4X + Y <= 36$\n",
        "* $X,Y >= 0$ (nonnegativity)\n",
        "\n",
        "The answer is $X=6$, $Y=12$ and $Z = 78$.\n"
      ]
    },
    {
      "cell_type": "markdown",
      "metadata": {
        "id": "zaK7G5e72hdq"
      },
      "source": [
        "# Practice Problem 2 Answer"
      ]
    },
    {
      "cell_type": "markdown",
      "metadata": {
        "id": "MWVVrEKO-QHt"
      },
      "source": [
        "Insert Color Cell Functions\n"
      ]
    },
    {
      "cell_type": "code",
      "metadata": {
        "id": "vdawXags-J4d"
      },
      "source": [
        "# Need to insert function to colored a desired cell: \n",
        "def styling_specific_cell(x,row_idx,col_idx):\n",
        "    color = 'background-color: yellow; color: red'\n",
        "    df_styler = pd.DataFrame('', index=x.index, columns=x.columns)\n",
        "    df_styler.iloc[row_idx, col_idx] = color\n",
        "    return df_styler"
      ],
      "execution_count": 52,
      "outputs": []
    },
    {
      "cell_type": "markdown",
      "metadata": {
        "id": "6hNns2lwPt-a"
      },
      "source": [
        "Describe Basic Variables and Nonbasic Variables"
      ]
    },
    {
      "cell_type": "markdown",
      "metadata": {
        "id": "U_VJVgpEAr0n"
      },
      "source": [
        "The **basic variables** are $s_1$ and $s_2$ and the **nonbasic variables** are $x_1$ and $x_2$.\n",
        "\n",
        "$x$ = 0\n",
        "\n",
        "$y$ = 0\n",
        "\n",
        "$s_1$ = 78\n",
        "\n",
        "$s_2$ = 36\n",
        "\n",
        "\n",
        "And is often written as:\n",
        "$(x, y, s_1, s_2) = (0, 0, 78,36)$"
      ]
    },
    {
      "cell_type": "markdown",
      "metadata": {
        "id": "Ii7yJMQHVNfR"
      },
      "source": [
        "Insert Simplex Tableua"
      ]
    },
    {
      "cell_type": "markdown",
      "metadata": {
        "id": "5KmwyT5kUu6c"
      },
      "source": [
        "![Screen Shot 2021-03-24 at 10.59.46 PM.png](data:image/png;base64,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)"
      ]
    },
    {
      "cell_type": "markdown",
      "metadata": {
        "id": "UL2NH1vUQsoy"
      },
      "source": [
        "Build Matrix 'A'"
      ]
    },
    {
      "cell_type": "code",
      "metadata": {
        "colab": {
          "base_uri": "https://localhost:8080/"
        },
        "id": "hJAxEhe2P4d-",
        "outputId": "4a015971-82a8-41b5-8e6d-4451dd4358a8"
      },
      "source": [
        "# Import packages so Matrix Function is recognized\n",
        "from sympy import Matrix, Rational, pprint, nsimplify # For building matrixes\n",
        "import numpy as np # For numeric functions \n",
        "import pandas as pd # For EDA \n",
        "\n",
        "# Build Matrix designated as 'A' \n",
        "A = Matrix([[3,5,1,0,78], # First Constraint \n",
        "            [4,1,0,1,36], # Second Constraint \n",
        "            [-5,-4,0,0,0]]) # Maximixation Row \n",
        "pprint(A) # Print function to print matrix 'A'"
      ],
      "execution_count": 53,
      "outputs": [
        {
          "output_type": "stream",
          "text": [
            "⎡3   5   1  0  78⎤\n",
            "⎢                ⎥\n",
            "⎢4   1   0  1  36⎥\n",
            "⎢                ⎥\n",
            "⎣-5  -4  0  0  0 ⎦\n"
          ],
          "name": "stdout"
        }
      ]
    },
    {
      "cell_type": "code",
      "metadata": {
        "colab": {
          "base_uri": "https://localhost:8080/",
          "height": 142
        },
        "id": "TRRCYYcEWNfr",
        "outputId": "1ab5adb9-f1fd-4b64-a1cf-2119b09019b2"
      },
      "source": [
        "# Adding some 'flavor' to the dataframe to make it look prettier! \n",
        "tmp = pd.DataFrame(np.array(A)) # Setting 'tmp' as the dataframe\n",
        "tmp.columns = ['x', 'y', 's1', 's2', 'b'] # Label the columns for: 'x1', 'x2', 's1', 's2', 'b' \n",
        "tmp.index = ['R0', 'R1', 'R2'] # Label ('Index') the 'R_' values in the matrix: 'R0', 'R1', 'R2'\n",
        "tmp # Displays 'tmp' dataframe built:"
      ],
      "execution_count": 54,
      "outputs": [
        {
          "output_type": "execute_result",
          "data": {
            "text/html": [
              "<div>\n",
              "<style scoped>\n",
              "    .dataframe tbody tr th:only-of-type {\n",
              "        vertical-align: middle;\n",
              "    }\n",
              "\n",
              "    .dataframe tbody tr th {\n",
              "        vertical-align: top;\n",
              "    }\n",
              "\n",
              "    .dataframe thead th {\n",
              "        text-align: right;\n",
              "    }\n",
              "</style>\n",
              "<table border=\"1\" class=\"dataframe\">\n",
              "  <thead>\n",
              "    <tr style=\"text-align: right;\">\n",
              "      <th></th>\n",
              "      <th>x</th>\n",
              "      <th>y</th>\n",
              "      <th>s1</th>\n",
              "      <th>s2</th>\n",
              "      <th>b</th>\n",
              "    </tr>\n",
              "  </thead>\n",
              "  <tbody>\n",
              "    <tr>\n",
              "      <th>R0</th>\n",
              "      <td>3</td>\n",
              "      <td>5</td>\n",
              "      <td>1</td>\n",
              "      <td>0</td>\n",
              "      <td>78</td>\n",
              "    </tr>\n",
              "    <tr>\n",
              "      <th>R1</th>\n",
              "      <td>4</td>\n",
              "      <td>1</td>\n",
              "      <td>0</td>\n",
              "      <td>1</td>\n",
              "      <td>36</td>\n",
              "    </tr>\n",
              "    <tr>\n",
              "      <th>R2</th>\n",
              "      <td>-5</td>\n",
              "      <td>-4</td>\n",
              "      <td>0</td>\n",
              "      <td>0</td>\n",
              "      <td>0</td>\n",
              "    </tr>\n",
              "  </tbody>\n",
              "</table>\n",
              "</div>"
            ],
            "text/plain": [
              "     x   y s1 s2   b\n",
              "R0   3   5  1  0  78\n",
              "R1   4   1  0  1  36\n",
              "R2  -5  -4  0  0   0"
            ]
          },
          "metadata": {
            "tags": []
          },
          "execution_count": 54
        }
      ]
    },
    {
      "cell_type": "markdown",
      "metadata": {
        "id": "oGGnLfkxajXf"
      },
      "source": [
        "Build Pivot #1"
      ]
    },
    {
      "cell_type": "markdown",
      "metadata": {
        "id": "xKOscQQxahEm"
      },
      "source": [
        "Before Building Pivot #1, determine which variable will be entering the matrix that was built:\n",
        "- The entering variable will be in column 1 (x), since that is where the largest negative value is: -5\n",
        "\n",
        "From there, we have to determine what departing value will be leaving the matrix: \n",
        "- The departing value is the smallest nonnegative ratio from the entering variable's column: \n",
        "  - 78/3 = 26 \n",
        "  - 36/4 = 9 <-- Smallest nonnegative ratio"
      ]
    },
    {
      "cell_type": "code",
      "metadata": {
        "colab": {
          "base_uri": "https://localhost:8080/",
          "height": 103
        },
        "id": "NB5ZYcFoZxtI",
        "outputId": "2b00cfbc-ec6a-4a38-81f3-b0ddd67c71ec"
      },
      "source": [
        "## Stylzing the matrix that was built:  \n",
        "  # Continuation function used here to style function to fit specific needs of the linear problem set \n",
        "tmp.style\\\n",
        ".apply(lambda x: ['background: lightblue' if x.name == 'x' else '' for i in x]) # Using the lambda function, we apply a light blue background to the 'x1' column, as it has the largest negative (least) value in the matrix"
      ],
      "execution_count": 55,
      "outputs": [
        {
          "output_type": "execute_result",
          "data": {
            "text/html": [
              "<style  type=\"text/css\" >\n",
              "#T_f8fc2170_8e61_11eb_9849_0242ac1c0002row0_col0,#T_f8fc2170_8e61_11eb_9849_0242ac1c0002row1_col0,#T_f8fc2170_8e61_11eb_9849_0242ac1c0002row2_col0{\n",
              "            background:  lightblue;\n",
              "        }</style><table id=\"T_f8fc2170_8e61_11eb_9849_0242ac1c0002\" ><thead>    <tr>        <th class=\"blank level0\" ></th>        <th class=\"col_heading level0 col0\" >x</th>        <th class=\"col_heading level0 col1\" >y</th>        <th class=\"col_heading level0 col2\" >s1</th>        <th class=\"col_heading level0 col3\" >s2</th>        <th class=\"col_heading level0 col4\" >b</th>    </tr></thead><tbody>\n",
              "                <tr>\n",
              "                        <th id=\"T_f8fc2170_8e61_11eb_9849_0242ac1c0002level0_row0\" class=\"row_heading level0 row0\" >R0</th>\n",
              "                        <td id=\"T_f8fc2170_8e61_11eb_9849_0242ac1c0002row0_col0\" class=\"data row0 col0\" >3</td>\n",
              "                        <td id=\"T_f8fc2170_8e61_11eb_9849_0242ac1c0002row0_col1\" class=\"data row0 col1\" >5</td>\n",
              "                        <td id=\"T_f8fc2170_8e61_11eb_9849_0242ac1c0002row0_col2\" class=\"data row0 col2\" >1</td>\n",
              "                        <td id=\"T_f8fc2170_8e61_11eb_9849_0242ac1c0002row0_col3\" class=\"data row0 col3\" >0</td>\n",
              "                        <td id=\"T_f8fc2170_8e61_11eb_9849_0242ac1c0002row0_col4\" class=\"data row0 col4\" >78</td>\n",
              "            </tr>\n",
              "            <tr>\n",
              "                        <th id=\"T_f8fc2170_8e61_11eb_9849_0242ac1c0002level0_row1\" class=\"row_heading level0 row1\" >R1</th>\n",
              "                        <td id=\"T_f8fc2170_8e61_11eb_9849_0242ac1c0002row1_col0\" class=\"data row1 col0\" >4</td>\n",
              "                        <td id=\"T_f8fc2170_8e61_11eb_9849_0242ac1c0002row1_col1\" class=\"data row1 col1\" >1</td>\n",
              "                        <td id=\"T_f8fc2170_8e61_11eb_9849_0242ac1c0002row1_col2\" class=\"data row1 col2\" >0</td>\n",
              "                        <td id=\"T_f8fc2170_8e61_11eb_9849_0242ac1c0002row1_col3\" class=\"data row1 col3\" >1</td>\n",
              "                        <td id=\"T_f8fc2170_8e61_11eb_9849_0242ac1c0002row1_col4\" class=\"data row1 col4\" >36</td>\n",
              "            </tr>\n",
              "            <tr>\n",
              "                        <th id=\"T_f8fc2170_8e61_11eb_9849_0242ac1c0002level0_row2\" class=\"row_heading level0 row2\" >R2</th>\n",
              "                        <td id=\"T_f8fc2170_8e61_11eb_9849_0242ac1c0002row2_col0\" class=\"data row2 col0\" >-5</td>\n",
              "                        <td id=\"T_f8fc2170_8e61_11eb_9849_0242ac1c0002row2_col1\" class=\"data row2 col1\" >-4</td>\n",
              "                        <td id=\"T_f8fc2170_8e61_11eb_9849_0242ac1c0002row2_col2\" class=\"data row2 col2\" >0</td>\n",
              "                        <td id=\"T_f8fc2170_8e61_11eb_9849_0242ac1c0002row2_col3\" class=\"data row2 col3\" >0</td>\n",
              "                        <td id=\"T_f8fc2170_8e61_11eb_9849_0242ac1c0002row2_col4\" class=\"data row2 col4\" >0</td>\n",
              "            </tr>\n",
              "    </tbody></table>"
            ],
            "text/plain": [
              "<pandas.io.formats.style.Styler at 0x7ffb37034090>"
            ]
          },
          "metadata": {
            "tags": []
          },
          "execution_count": 55
        }
      ]
    },
    {
      "cell_type": "code",
      "metadata": {
        "colab": {
          "base_uri": "https://localhost:8080/",
          "height": 103
        },
        "id": "PlfdnmkI5Mhs",
        "outputId": "1593ef72-d2e5-46b8-d36f-0a258af4647c"
      },
      "source": [
        "# Redefine 'tmp' dataframe we set originally + plus makes matrix easier to read\n",
        "tmp = pd.DataFrame(np.array(A).astype(float)) # Gives variable 'tmp' ability to turn into a real number that contains decimals \n",
        "tmp.columns = ['x', 'y', 's1', 's2', 'b'] # Label the columns for: 'x1', 'x2', 's1', 's2', 'b' \n",
        "tmp.index = ['R0', 'R1', 'R2'] # Label ('Index') the 'R_' values in the matrix: 'R0', 'R1', 'R2'\n",
        "tmp # Displays 'tmp' dataframe \n",
        "\n",
        "## Adding some colors to highlight 'x' column and highlight 'R1' value within 'x' column\n",
        "  # Style - highlight the Pivot element in matrix\n",
        "idx_r = 1 # Presents the row of the index to highlight light blue \n",
        "idx_c = 0 # Presents the column of the index to highlight light blue \n",
        "\n",
        "### Highlight the values in the column 'x' in the pivot element\n",
        "  ## Also highlights 'R1' in the pivot element\n",
        "    # Continuation function being used to attribute which values in the pivot are highlighted blue and which are highlighted yellow \n",
        "tmp.style\\\n",
        ".apply(lambda x: ['background: lightblue' if x.name == 'x' else '' for i in x])\\\n",
        ".apply(lambda x: ['background: lightblue' if x.name == 'R1' else '' for i in x], axis=1)\\\n",
        ".apply(styling_specific_cell, row_idx = idx_r, col_idx = idx_c, axis = None) "
      ],
      "execution_count": 56,
      "outputs": [
        {
          "output_type": "execute_result",
          "data": {
            "text/html": [
              "<style  type=\"text/css\" >\n",
              "#T_02c9928c_8e62_11eb_9849_0242ac1c0002row0_col0,#T_02c9928c_8e62_11eb_9849_0242ac1c0002row1_col1,#T_02c9928c_8e62_11eb_9849_0242ac1c0002row1_col2,#T_02c9928c_8e62_11eb_9849_0242ac1c0002row1_col3,#T_02c9928c_8e62_11eb_9849_0242ac1c0002row1_col4,#T_02c9928c_8e62_11eb_9849_0242ac1c0002row2_col0{\n",
              "            background:  lightblue;\n",
              "        }#T_02c9928c_8e62_11eb_9849_0242ac1c0002row1_col0{\n",
              "            background:  lightblue;\n",
              "            background:  lightblue;\n",
              "            background-color:  yellow;\n",
              "             color:  red;\n",
              "        }</style><table id=\"T_02c9928c_8e62_11eb_9849_0242ac1c0002\" ><thead>    <tr>        <th class=\"blank level0\" ></th>        <th class=\"col_heading level0 col0\" >x</th>        <th class=\"col_heading level0 col1\" >y</th>        <th class=\"col_heading level0 col2\" >s1</th>        <th class=\"col_heading level0 col3\" >s2</th>        <th class=\"col_heading level0 col4\" >b</th>    </tr></thead><tbody>\n",
              "                <tr>\n",
              "                        <th id=\"T_02c9928c_8e62_11eb_9849_0242ac1c0002level0_row0\" class=\"row_heading level0 row0\" >R0</th>\n",
              "                        <td id=\"T_02c9928c_8e62_11eb_9849_0242ac1c0002row0_col0\" class=\"data row0 col0\" >3.000000</td>\n",
              "                        <td id=\"T_02c9928c_8e62_11eb_9849_0242ac1c0002row0_col1\" class=\"data row0 col1\" >5.000000</td>\n",
              "                        <td id=\"T_02c9928c_8e62_11eb_9849_0242ac1c0002row0_col2\" class=\"data row0 col2\" >1.000000</td>\n",
              "                        <td id=\"T_02c9928c_8e62_11eb_9849_0242ac1c0002row0_col3\" class=\"data row0 col3\" >0.000000</td>\n",
              "                        <td id=\"T_02c9928c_8e62_11eb_9849_0242ac1c0002row0_col4\" class=\"data row0 col4\" >78.000000</td>\n",
              "            </tr>\n",
              "            <tr>\n",
              "                        <th id=\"T_02c9928c_8e62_11eb_9849_0242ac1c0002level0_row1\" class=\"row_heading level0 row1\" >R1</th>\n",
              "                        <td id=\"T_02c9928c_8e62_11eb_9849_0242ac1c0002row1_col0\" class=\"data row1 col0\" >4.000000</td>\n",
              "                        <td id=\"T_02c9928c_8e62_11eb_9849_0242ac1c0002row1_col1\" class=\"data row1 col1\" >1.000000</td>\n",
              "                        <td id=\"T_02c9928c_8e62_11eb_9849_0242ac1c0002row1_col2\" class=\"data row1 col2\" >0.000000</td>\n",
              "                        <td id=\"T_02c9928c_8e62_11eb_9849_0242ac1c0002row1_col3\" class=\"data row1 col3\" >1.000000</td>\n",
              "                        <td id=\"T_02c9928c_8e62_11eb_9849_0242ac1c0002row1_col4\" class=\"data row1 col4\" >36.000000</td>\n",
              "            </tr>\n",
              "            <tr>\n",
              "                        <th id=\"T_02c9928c_8e62_11eb_9849_0242ac1c0002level0_row2\" class=\"row_heading level0 row2\" >R2</th>\n",
              "                        <td id=\"T_02c9928c_8e62_11eb_9849_0242ac1c0002row2_col0\" class=\"data row2 col0\" >-5.000000</td>\n",
              "                        <td id=\"T_02c9928c_8e62_11eb_9849_0242ac1c0002row2_col1\" class=\"data row2 col1\" >-4.000000</td>\n",
              "                        <td id=\"T_02c9928c_8e62_11eb_9849_0242ac1c0002row2_col2\" class=\"data row2 col2\" >0.000000</td>\n",
              "                        <td id=\"T_02c9928c_8e62_11eb_9849_0242ac1c0002row2_col3\" class=\"data row2 col3\" >0.000000</td>\n",
              "                        <td id=\"T_02c9928c_8e62_11eb_9849_0242ac1c0002row2_col4\" class=\"data row2 col4\" >0.000000</td>\n",
              "            </tr>\n",
              "    </tbody></table>"
            ],
            "text/plain": [
              "<pandas.io.formats.style.Styler at 0x7ffb370e4210>"
            ]
          },
          "metadata": {
            "tags": []
          },
          "execution_count": 56
        }
      ]
    },
    {
      "cell_type": "code",
      "metadata": {
        "colab": {
          "base_uri": "https://localhost:8080/"
        },
        "id": "9eXmA0D1Er7O",
        "outputId": "43921f7e-e0b2-4726-af35-555c3ec91972"
      },
      "source": [
        "## Import 'Fraction' package\n",
        "  # Turns the pivot in highlighted R1 --> (4.000000) into a 1 \n",
        "from fractions import Fraction as Fraction\n",
        "A[1,:] = (Fraction(1,4)*A[1,:]) # Multiplies all the values in the second row of the matrix by all of the columns \n",
        "\n",
        "# Print updated Matrix 'A'\n",
        "pprint(A)  "
      ],
      "execution_count": 57,
      "outputs": [
        {
          "output_type": "stream",
          "text": [
            "⎡3    5   1   0   78⎤\n",
            "⎢                   ⎥\n",
            "⎢1   1/4  0  1/4  9 ⎥\n",
            "⎢                   ⎥\n",
            "⎣-5  -4   0   0   0 ⎦\n"
          ],
          "name": "stdout"
        }
      ]
    },
    {
      "cell_type": "code",
      "metadata": {
        "colab": {
          "base_uri": "https://localhost:8080/"
        },
        "id": "AfgN8xjrDxxf",
        "outputId": "489db7b9-a524-465a-82c8-557d7ef8825e"
      },
      "source": [
        "## Change the values above and below the pivot element to 0 defined previously \n",
        "  # This edits all the corresponding values in the rows\n",
        "A[0,:] = A[0,:] - 3*A[1,:] # Redefining 'A[0,:]'\n",
        "\n",
        "A[2,:] = A[2,:] + 5*A[1,:] # Redefining 'A[2,:]'\n",
        "\n",
        "## Reprint the new values in Matrix 'A'\n",
        "  # Matrix 'A' is now complete with new pivot elements included\n",
        "pprint(A)"
      ],
      "execution_count": 58,
      "outputs": [
        {
          "output_type": "stream",
          "text": [
            "⎡0  17/4   1  -3/4  51⎤\n",
            "⎢                     ⎥\n",
            "⎢1   1/4   0  1/4   9 ⎥\n",
            "⎢                     ⎥\n",
            "⎣0  -11/4  0  5/4   45⎦\n"
          ],
          "name": "stdout"
        }
      ]
    },
    {
      "cell_type": "markdown",
      "metadata": {
        "id": "rBRbkugAFUfV"
      },
      "source": [
        "Build Pivot #2"
      ]
    },
    {
      "cell_type": "markdown",
      "metadata": {
        "id": "nkvQc8C0nonM"
      },
      "source": [
        "Before Building Pivot #2, determine which variable will be entering the matrix that is being built:\n",
        "- The entering variable will be in column 2 (y), since that is where the largest negative value is: -11/4 \n",
        "\n",
        "From there, we have to determine what departing value will be leaving the matrix: \n",
        "- The departing value is the smallest nonnegative ratio from the entering variable's column: \n",
        "  - 51/(17/4) = 12 <-- Smallest nonnegative ratio\n",
        "  - 9/(1/4) = 36"
      ]
    },
    {
      "cell_type": "code",
      "metadata": {
        "colab": {
          "base_uri": "https://localhost:8080/",
          "height": 103
        },
        "id": "u91ucWKaFZ0S",
        "outputId": "394dbabe-1c7d-49eb-b057-a7f667bcb153"
      },
      "source": [
        "# Redefine 'tmp' dataframe we set originally + plus makes matrix easier to read\n",
        "tmp = pd.DataFrame(np.array(A)) # Redefines variable 'tmp' and includes the new values from Pivot #1\n",
        "tmp.columns = ['x', 'y', 's1', 's2', 'b'] # Label the columns for: 'x1', 'x2', 's1', 's2', 'b' \n",
        "tmp.index=['R0', 'R1', 'R2'] # Label ('Index') the 'R_' values in the matrix: 'R0', 'R1', 'R2'\n",
        "tmp # Displays 'tmp' dataframe built:\n",
        "\n",
        "## Adding some colors to highlight 'y' column and highlight 'R0' value within 'y' column\n",
        "  # Style - highlight the Pivot element in matrix\n",
        "idx_r = 0 # Presents the row of the index to highlight light blue \n",
        "idx_c = 1 # Presents the column of the index to highlight light blue  \n",
        "\n",
        "### Highlight the values in the column 'y' in the pivot element\n",
        "  ## Also highlights 'R0' in the pivot element\n",
        "    # Continuation function being used to attribute which values in the pivot are highlighted blue and which are highlighted yellow \n",
        "tmp.style\\\n",
        ".apply(lambda x: ['background: lightblue' if x.name == 'y' else '' for i in x])\\\n",
        ".apply(lambda x: ['background: lightblue' if x.name == 'R0' else '' for i in x], axis=1)\\\n",
        ".apply(styling_specific_cell, row_idx = idx_r, col_idx = idx_c, axis = None) "
      ],
      "execution_count": 59,
      "outputs": [
        {
          "output_type": "execute_result",
          "data": {
            "text/html": [
              "<style  type=\"text/css\" >\n",
              "#T_6c984b72_8e62_11eb_9849_0242ac1c0002row0_col0,#T_6c984b72_8e62_11eb_9849_0242ac1c0002row0_col2,#T_6c984b72_8e62_11eb_9849_0242ac1c0002row0_col3,#T_6c984b72_8e62_11eb_9849_0242ac1c0002row0_col4,#T_6c984b72_8e62_11eb_9849_0242ac1c0002row1_col1,#T_6c984b72_8e62_11eb_9849_0242ac1c0002row2_col1{\n",
              "            background:  lightblue;\n",
              "        }#T_6c984b72_8e62_11eb_9849_0242ac1c0002row0_col1{\n",
              "            background:  lightblue;\n",
              "            background:  lightblue;\n",
              "            background-color:  yellow;\n",
              "             color:  red;\n",
              "        }</style><table id=\"T_6c984b72_8e62_11eb_9849_0242ac1c0002\" ><thead>    <tr>        <th class=\"blank level0\" ></th>        <th class=\"col_heading level0 col0\" >x</th>        <th class=\"col_heading level0 col1\" >y</th>        <th class=\"col_heading level0 col2\" >s1</th>        <th class=\"col_heading level0 col3\" >s2</th>        <th class=\"col_heading level0 col4\" >b</th>    </tr></thead><tbody>\n",
              "                <tr>\n",
              "                        <th id=\"T_6c984b72_8e62_11eb_9849_0242ac1c0002level0_row0\" class=\"row_heading level0 row0\" >R0</th>\n",
              "                        <td id=\"T_6c984b72_8e62_11eb_9849_0242ac1c0002row0_col0\" class=\"data row0 col0\" >0</td>\n",
              "                        <td id=\"T_6c984b72_8e62_11eb_9849_0242ac1c0002row0_col1\" class=\"data row0 col1\" >17/4</td>\n",
              "                        <td id=\"T_6c984b72_8e62_11eb_9849_0242ac1c0002row0_col2\" class=\"data row0 col2\" >1</td>\n",
              "                        <td id=\"T_6c984b72_8e62_11eb_9849_0242ac1c0002row0_col3\" class=\"data row0 col3\" >-3/4</td>\n",
              "                        <td id=\"T_6c984b72_8e62_11eb_9849_0242ac1c0002row0_col4\" class=\"data row0 col4\" >51</td>\n",
              "            </tr>\n",
              "            <tr>\n",
              "                        <th id=\"T_6c984b72_8e62_11eb_9849_0242ac1c0002level0_row1\" class=\"row_heading level0 row1\" >R1</th>\n",
              "                        <td id=\"T_6c984b72_8e62_11eb_9849_0242ac1c0002row1_col0\" class=\"data row1 col0\" >1</td>\n",
              "                        <td id=\"T_6c984b72_8e62_11eb_9849_0242ac1c0002row1_col1\" class=\"data row1 col1\" >1/4</td>\n",
              "                        <td id=\"T_6c984b72_8e62_11eb_9849_0242ac1c0002row1_col2\" class=\"data row1 col2\" >0</td>\n",
              "                        <td id=\"T_6c984b72_8e62_11eb_9849_0242ac1c0002row1_col3\" class=\"data row1 col3\" >1/4</td>\n",
              "                        <td id=\"T_6c984b72_8e62_11eb_9849_0242ac1c0002row1_col4\" class=\"data row1 col4\" >9</td>\n",
              "            </tr>\n",
              "            <tr>\n",
              "                        <th id=\"T_6c984b72_8e62_11eb_9849_0242ac1c0002level0_row2\" class=\"row_heading level0 row2\" >R2</th>\n",
              "                        <td id=\"T_6c984b72_8e62_11eb_9849_0242ac1c0002row2_col0\" class=\"data row2 col0\" >0</td>\n",
              "                        <td id=\"T_6c984b72_8e62_11eb_9849_0242ac1c0002row2_col1\" class=\"data row2 col1\" >-11/4</td>\n",
              "                        <td id=\"T_6c984b72_8e62_11eb_9849_0242ac1c0002row2_col2\" class=\"data row2 col2\" >0</td>\n",
              "                        <td id=\"T_6c984b72_8e62_11eb_9849_0242ac1c0002row2_col3\" class=\"data row2 col3\" >5/4</td>\n",
              "                        <td id=\"T_6c984b72_8e62_11eb_9849_0242ac1c0002row2_col4\" class=\"data row2 col4\" >45</td>\n",
              "            </tr>\n",
              "    </tbody></table>"
            ],
            "text/plain": [
              "<pandas.io.formats.style.Styler at 0x7ffb37236dd0>"
            ]
          },
          "metadata": {
            "tags": []
          },
          "execution_count": 59
        }
      ]
    },
    {
      "cell_type": "code",
      "metadata": {
        "colab": {
          "base_uri": "https://localhost:8080/"
        },
        "id": "GSQKpbKQFv4I",
        "outputId": "33abed09-16ad-4f69-b2c3-68dc910444ef"
      },
      "source": [
        "## Turns the pivot in highlighted R0 --> (17/4) into a 1 \n",
        "  # This edits all the corresponding values in the rows by multiplying row by 4/17\n",
        "A[0,:] = Fraction(4,17)*A[0,:] # Redefining 'A[0,:]'\n",
        "\n",
        "# Print updated Matrix 'A'\n",
        "pprint(A)"
      ],
      "execution_count": 60,
      "outputs": [
        {
          "output_type": "stream",
          "text": [
            "⎡0    1    4/17  -3/17  12⎤\n",
            "⎢                         ⎥\n",
            "⎢1   1/4    0     1/4   9 ⎥\n",
            "⎢                         ⎥\n",
            "⎣0  -11/4   0     5/4   45⎦\n"
          ],
          "name": "stdout"
        }
      ]
    },
    {
      "cell_type": "code",
      "metadata": {
        "colab": {
          "base_uri": "https://localhost:8080/"
        },
        "id": "1nmsEPBmGOui",
        "outputId": "38a6da85-f3a6-4b78-847a-25a7d91345f6"
      },
      "source": [
        "## Change the values above and below the pivot element to 0 defined previously \n",
        "  # This edits all the corresponding values in the rows\n",
        "A[1,:] = A[1,:] - Fraction(1,4)*A[0,:] # Redefining 'A[1,:]'\n",
        "A[2,:] = A[2,:] + Fraction(11,4)*A[0,:] # Redefining 'A[2,:]'\n",
        "\n",
        "## Reprint the new values in Matrix 'A'\n",
        "  # Matrix 'A' is now complete with new pivot elements included\n",
        "pprint(A)"
      ],
      "execution_count": 61,
      "outputs": [
        {
          "output_type": "stream",
          "text": [
            "⎡0  1  4/17   -3/17  12⎤\n",
            "⎢                      ⎥\n",
            "⎢1  0  -1/17  5/17   6 ⎥\n",
            "⎢                      ⎥\n",
            "⎢       11     13      ⎥\n",
            "⎢0  0   ──     ──    78⎥\n",
            "⎣       17     17      ⎦\n"
          ],
          "name": "stdout"
        }
      ]
    },
    {
      "cell_type": "markdown",
      "metadata": {
        "id": "RaXKbN6M2rLv"
      },
      "source": [
        "Read Table and Declare Optimal Solutions \n"
      ]
    },
    {
      "cell_type": "code",
      "metadata": {
        "colab": {
          "base_uri": "https://localhost:8080/",
          "height": 142
        },
        "id": "KwcrUZbzHjv7",
        "outputId": "57e42d31-7091-40ba-8860-95f2c30c09ff"
      },
      "source": [
        "# Optimal Solution Found (no negative values in 'x' or 'y' columns)!\n",
        "import pandas as pd # to make optimal solution easier to read \n",
        "tmp = pd.DataFrame(np.array(A)) # Reestablish dataframe to make it easier to read optimal solution \n",
        "tmp.columns = ['x', 'y', 's1', 's2', 'b'] # Label the columns for: 'x1', 'x2', 's1', 's2', 'b'\n",
        "tmp # Display dataframe's final solution! "
      ],
      "execution_count": 38,
      "outputs": [
        {
          "output_type": "execute_result",
          "data": {
            "text/html": [
              "<div>\n",
              "<style scoped>\n",
              "    .dataframe tbody tr th:only-of-type {\n",
              "        vertical-align: middle;\n",
              "    }\n",
              "\n",
              "    .dataframe tbody tr th {\n",
              "        vertical-align: top;\n",
              "    }\n",
              "\n",
              "    .dataframe thead th {\n",
              "        text-align: right;\n",
              "    }\n",
              "</style>\n",
              "<table border=\"1\" class=\"dataframe\">\n",
              "  <thead>\n",
              "    <tr style=\"text-align: right;\">\n",
              "      <th></th>\n",
              "      <th>x</th>\n",
              "      <th>y</th>\n",
              "      <th>s1</th>\n",
              "      <th>s2</th>\n",
              "      <th>b</th>\n",
              "    </tr>\n",
              "  </thead>\n",
              "  <tbody>\n",
              "    <tr>\n",
              "      <th>0</th>\n",
              "      <td>0</td>\n",
              "      <td>1</td>\n",
              "      <td>4/17</td>\n",
              "      <td>-3/17</td>\n",
              "      <td>12</td>\n",
              "    </tr>\n",
              "    <tr>\n",
              "      <th>1</th>\n",
              "      <td>1</td>\n",
              "      <td>0</td>\n",
              "      <td>-1/17</td>\n",
              "      <td>5/17</td>\n",
              "      <td>6</td>\n",
              "    </tr>\n",
              "    <tr>\n",
              "      <th>2</th>\n",
              "      <td>0</td>\n",
              "      <td>0</td>\n",
              "      <td>11/17</td>\n",
              "      <td>13/17</td>\n",
              "      <td>78</td>\n",
              "    </tr>\n",
              "  </tbody>\n",
              "</table>\n",
              "</div>"
            ],
            "text/plain": [
              "   x  y     s1     s2   b\n",
              "0  0  1   4/17  -3/17  12\n",
              "1  1  0  -1/17   5/17   6\n",
              "2  0  0  11/17  13/17  78"
            ]
          },
          "metadata": {
            "tags": []
          },
          "execution_count": 38
        }
      ]
    },
    {
      "cell_type": "markdown",
      "metadata": {
        "id": "LBdJb3oQso4O"
      },
      "source": [
        "Optimal values: \n",
        "- x = 6\n",
        "- y = 12 \n",
        "- s1 = 0 \n",
        "- s2 = 0 \n",
        "- z = 78 \n",
        "\n",
        "Display Answers in Compact Form: \n",
        "(x1, x2, s1, s2) = (6, 12, 0, 0) \n",
        "\n",
        "or\n",
        "\n",
        "$(Z) = 5X + 4Y$ = 6 * (5) + 12 * (4) = 78 \n",
        "\n"
      ]
    }
  ]
}
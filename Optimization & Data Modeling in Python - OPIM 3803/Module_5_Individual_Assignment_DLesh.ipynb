{
  "nbformat": 4,
  "nbformat_minor": 0,
  "metadata": {
    "colab": {
      "name": "Module_5_Individual_Assignment_DLesh.ipynb",
      "provenance": [],
      "collapsed_sections": []
    },
    "kernelspec": {
      "name": "python3",
      "display_name": "Python 3"
    }
  },
  "cells": [
    {
      "cell_type": "markdown",
      "metadata": {
        "id": "0Q7rTx6fkkLd"
      },
      "source": [
        "# Individual Assignment M5.1: General Widget Corporation (extracted from the textbook)\n",
        "\n",
        "-------------------------------------------------------------------------\n",
        "* Daniel Lesh\n",
        "* djl17006\n",
        "\n",
        "## Problem statement\n",
        "\n",
        "General Widget Corporation has collected data on the daily output and daily production cost of widgets at its factory. The company believes that daily output ($DO$) and daily production cost ($PC$) ought to be linearly related.  Thus, for some numbers $a$ and $b$:\n",
        "$\n",
        "PC = a + b  \\times DO\n",
        "$\n",
        "Data for the study are provided below:\n",
        "\n",
        "Day\t| DO\t| PC\n",
        "--- | --- | ---\n",
        "1\t| 5,045\t| 2,542\n",
        "2\t| 6,127\t| 2,812\n",
        "3\t| 6,360\t| 2,776\n",
        "4\t| 6,645\t| 3,164\n",
        "5\t| 7,220\t| 4,102\n",
        "6\t| 9,537\t| 4,734\n",
        "7\t| 9,895\t| 4,238\n",
        "8\t| 10,175\t| 4,524\n",
        "9\t| 10,334\t| 4,869\n",
        "10 |\t10,855\t|4,421"
      ]
    },
    {
      "cell_type": "markdown",
      "metadata": {
        "id": "xo1D_KMw4LH0"
      },
      "source": [
        "**Directions:** \n",
        "You may work with your fellow classmates, but you need to complete the assignment on your own. I expect different headers and COMMENTS (comments are the key to showing that you really know your stuff - without comments, your code is useless to me).\n",
        "\n",
        "**Rubric:**\n",
        "* Each item corresponds to 50% of the grade:\n",
        "  * Full credit (100): Correct formulation and lots of useful comments. Nice headers and text cells included in the notebook.\n",
        "  * Half credit (50): Solution is wrong (bad code) or the comments are mediocre or directly copied. Nice headers and text cells included in the notebook.\n",
        "  * No credit (0): Bad code and bad comments, or good code and no comments. Poorly laid out notebook.\n"
      ]
    },
    {
      "cell_type": "markdown",
      "metadata": {
        "id": "Yxdl8KZWP7WV"
      },
      "source": [
        "## Mount Personal Google Drive"
      ]
    },
    {
      "cell_type": "code",
      "metadata": {
        "colab": {
          "base_uri": "https://localhost:8080/"
        },
        "id": "4frO7wTh-KVC",
        "outputId": "39ac039d-5b2d-4623-8f23-267392e22cc3"
      },
      "source": [
        "# Mounting my personal Google Drive \n",
        "from google.colab import drive\n",
        "drive.mount('/content/drive')"
      ],
      "execution_count": 1,
      "outputs": [
        {
          "output_type": "stream",
          "text": [
            "Mounted at /content/drive\n"
          ],
          "name": "stdout"
        }
      ]
    },
    {
      "cell_type": "markdown",
      "metadata": {
        "id": "ixbB0p76QFsc"
      },
      "source": [
        "## Seperate / Organize Data "
      ]
    },
    {
      "cell_type": "code",
      "metadata": {
        "id": "-kJZQ7JQ4HJG"
      },
      "source": [
        "## Before building model, seperate the data given by creating these new variables (Y & Z)\n",
        "  # Each data input is separated by a comma \n",
        "\n",
        "# Day Variable Inputs (A) \n",
        "X = [1, 2, 3, 4, 5, 6, 7, 8, 9, 10]\n",
        "\n",
        "## Daily Output (DO) --> Independent Variable\n",
        "  # DO Variable Inputs - (Y)\n",
        "Y = [\n",
        "     5045,\n",
        "     6127,\n",
        "     6360,\n",
        "     6645,\n",
        "     7220,\n",
        "     9537,\n",
        "     9895,\n",
        "     10175,\n",
        "     10334,\n",
        "     10855\n",
        "          ]\n",
        "\n",
        "## Daily Production Costs (PC) --> Dependent Variable\n",
        "  # PC Variable Inputs - (Z)\n",
        "Z = [\n",
        "     2542,\n",
        "     2812,\n",
        "     2776,\n",
        "     3164,\n",
        "     4102,\n",
        "     4734,\n",
        "     4238,\n",
        "     4524,\n",
        "     4869,\n",
        "     4421\n",
        "          ]"
      ],
      "execution_count": 15,
      "outputs": []
    },
    {
      "cell_type": "markdown",
      "metadata": {
        "id": "05QPwjcvJDve"
      },
      "source": [
        "## Import Python Plotting Packages / Plot Data"
      ]
    },
    {
      "cell_type": "code",
      "metadata": {
        "colab": {
          "base_uri": "https://localhost:8080/",
          "height": 299
        },
        "id": "u1N_zWPZJBd8",
        "outputId": "d82789b5-1704-42ac-d575-7e448ede7cd6"
      },
      "source": [
        "# Import Python Plotting Packages \n",
        "%matplotlib inline\n",
        "from pylab import *\n",
        "\n",
        "import matplotlib.pyplot as plt \n",
        "from scipy import stats\n",
        "\n",
        "# Convert our lists into numpy arrays using scipy \n",
        "YY = np.array(Y) # Converting array of data for Y to = YY\n",
        "ZZ = np.array(Z) # Converting array of data for Z to = ZZ\n",
        "\n",
        "# Returning first two values in the function: b & a\n",
        "b, a, r_value, p_value, std_err = stats.linregress(YY, ZZ) # Running linear regression on YY and ZZ\n",
        "\n",
        "## Plot the original data points provided in the problem above: \n",
        "  # Variables: DO = YY ; PC = ZZ\n",
        "plt.plot(YY, ZZ, 'o', label= 'Original Data') # Plotting YY and ZZ data points, labeling it 'Original Data'\n",
        "\n",
        "## Plot the line on graph using plot function\n",
        "  # Utilizing linear regression expression ('a + b*YY') in the plot function\n",
        "plt.plot(YY, a + b*YY, 'r', label= 'Fitted Line')\n",
        "plt.legend() # Using legend function to generate legend in upper left corner \n",
        "plt.show() # Using show function to show plot \n",
        "\n",
        "# Print values of a and b (we will need this later to compare to our optimized solution)!\n",
        "print ('a value:', a) # Printing Value a\n",
        "print ('b value:', b) # Printing Value b "
      ],
      "execution_count": 16,
      "outputs": [
        {
          "output_type": "display_data",
          "data": {
            "image/png": "[encoded data removed]",
            "text/plain": [
              "<Figure size 432x288 with 1 Axes>"
            ]
          },
          "metadata": {
            "tags": [],
            "needs_background": "light"
          }
        },
        {
          "output_type": "stream",
          "text": [
            "a value: 635.9745463519116\n",
            "b value: 0.38716502057937885\n"
          ],
          "name": "stdout"
        }
      ]
    },
    {
      "cell_type": "markdown",
      "metadata": {
        "id": "GVcHbJDBP-ey"
      },
      "source": [
        "## Import Python Optimization Packages"
      ]
    },
    {
      "cell_type": "code",
      "metadata": {
        "id": "S8K-yY-S-JQT"
      },
      "source": [
        "# Import Python Optimization Packages to run code properly\n",
        "%matplotlib inline\n",
        "from pylab import *\n",
        "\n",
        "import shutil\n",
        "import sys\n",
        "import os.path\n",
        "\n",
        "if not shutil.which(\"pyomo\"):\n",
        "    !pip install -q pyomo\n",
        "    assert(shutil.which(\"pyomo\"))\n",
        "\n",
        "if not (shutil.which(\"ipopt\") or os.path.isfile(\"ipopt\")):\n",
        "    if \"google.colab\" in sys.modules:\n",
        "        !wget -N -q \"https://ampl.com/dl/open/ipopt/ipopt-linux64.zip\"\n",
        "        !unzip -o -q ipopt-linux64\n",
        "        #!apt-get install -y -qq glpk-utils\n",
        "    else:\n",
        "        try:\n",
        "            !conda install -c conda-forge ipopt\n",
        "        except:\n",
        "            pass\n",
        "\n",
        "assert(shutil.which(\"ipopt\") or os.path.isfile(\"ipopt\"))\n",
        "\n",
        "from pyomo.environ import *"
      ],
      "execution_count": 17,
      "outputs": []
    },
    {
      "cell_type": "markdown",
      "metadata": {
        "id": "f5g9hhWen_1A"
      },
      "source": [
        "# Item 1 \n",
        "\n",
        "Build a least-squares model to estimate the parameters $a$ and $b$ in the linear relationship.  In other  words, minimize the sum of squared differences between the model's predicted values and the observations, i.e., the objective function will probably look like this:\n",
        "\n",
        "$\\min   \\sum\\limits_{i \\in |X|}(y_i - z_i)^2$\n",
        "\n",
        "What are the best values of the parameters $a$ and $b$ for this criterion? What is the minimum value of the objective function? \n",
        "\n",
        "**Optimal (?) solution $a = 635.97$ and $b = 0.39$, and optimal (?) value is 1,044,322.762.**\n",
        "\t\n"
      ]
    },
    {
      "cell_type": "markdown",
      "metadata": {
        "id": "ST6RSshoTRM8"
      },
      "source": [
        "## Program Model1 Solution (i.e. Least-Squares Model)"
      ]
    },
    {
      "cell_type": "code",
      "metadata": {
        "id": "bQkMnMJrBNRL",
        "colab": {
          "base_uri": "https://localhost:8080/"
        },
        "outputId": "5934ddf4-a951-400f-a3be-79ecdfffa000"
      },
      "source": [
        "# Before building model1, declare it using 'model = ConcreteModel()' function\n",
        "model1 = ConcreteModel()\n",
        "\n",
        "### Count of variables in the data column\n",
        "  ## When we use the function to count it will come up with [0, 1, 2, 3, 4, 5, 6, 7, 8, 9] \n",
        "    # Number 9 indicating 10 variables (0 included)\n",
        "n_points = len(X)\n",
        "\n",
        "# Declare the decision variables in the model\n",
        "model1.a = Var(domain=Reals, initialize = 1) # Intialize = 1 to Model A \n",
        "model1.b = Var(domain=Reals, initialize = 1) # Intialize = 1 for Model B \n",
        "  # Build a range for the variable inputs to follow for Model Z\n",
        "model1.z = Var([i for i in range(n_points)], domain=Reals) # This also helps with the progression of the formula, meaning it will work down each variable input to find a final solution\n",
        "\n",
        "# Build out constraints in Model \n",
        "model1.constraints = ConstraintList() \n",
        "for i in range(n_points): # Clarify the range that the constraints are subject to (for i in range) --> Predicted Value\n",
        "  y = Y[i] ### The daily output is defined as y but set to the range of Y (DO) in the data variable inputs above\n",
        "            ## Each new section of the formula will pull the next value of Y in the variable column\n",
        "              # This is how it is able to switch the input\n",
        "  model1.constraints.add(model1.z[i] == model1.a + y*model1.b) ## There is a linear relationship between Product Cost and Daily Output\n",
        "                                                            # This formula builds that constraint for the objective function to follow\n",
        "# Objective Statement for minimimum value\n",
        "obj_expr = 0 # Setting objective for minimum value of 0\n",
        "for i in range(n_points):\n",
        "  obj_expr += (model1.z[i] - Z[i])**2 # The sum of each variable (i) \n",
        "model1.error = Objective(\n",
        "                      expr = obj_expr, # Carry the objective formula into the proposed solution\n",
        "                      sense = minimize) # Expression notifying the objective is to minimize problem\n",
        "\n",
        "# Printing Model Solution\n",
        "model1.pprint() # Also using Pretty Print function  here "
      ],
      "execution_count": 18,
      "outputs": [
        {
          "output_type": "stream",
          "text": [
            "2 Set Declarations\n",
            "    constraints_index : Size=1, Index=None, Ordered=Insertion\n",
            "        Key  : Dimen : Domain : Size : Members\n",
            "        None :     1 :    Any :   10 : {1, 2, 3, 4, 5, 6, 7, 8, 9, 10}\n",
            "    z_index : Size=1, Index=None, Ordered=Insertion\n",
            "        Key  : Dimen : Domain : Size : Members\n",
            "        None :     1 :    Any :   10 : {0, 1, 2, 3, 4, 5, 6, 7, 8, 9}\n",
            "\n",
            "3 Var Declarations\n",
            "    a : Size=1, Index=None\n",
            "        Key  : Lower : Value : Upper : Fixed : Stale : Domain\n",
            "        None :  None :     1 :  None : False : False :  Reals\n",
            "    b : Size=1, Index=None\n",
            "        Key  : Lower : Value : Upper : Fixed : Stale : Domain\n",
            "        None :  None :     1 :  None : False : False :  Reals\n",
            "    z : Size=10, Index=z_index\n",
            "        Key : Lower : Value : Upper : Fixed : Stale : Domain\n",
            "          0 :  None :  None :  None : False :  True :  Reals\n",
            "          1 :  None :  None :  None : False :  True :  Reals\n",
            "          2 :  None :  None :  None : False :  True :  Reals\n",
            "          3 :  None :  None :  None : False :  True :  Reals\n",
            "          4 :  None :  None :  None : False :  True :  Reals\n",
            "          5 :  None :  None :  None : False :  True :  Reals\n",
            "          6 :  None :  None :  None : False :  True :  Reals\n",
            "          7 :  None :  None :  None : False :  True :  Reals\n",
            "          8 :  None :  None :  None : False :  True :  Reals\n",
            "          9 :  None :  None :  None : False :  True :  Reals\n",
            "\n",
            "1 Objective Declarations\n",
            "    error : Size=1, Index=None, Active=True\n",
            "        Key  : Active : Sense    : Expression\n",
            "        None :   True : minimize : (z[0] - 2542)**2 + (z[1] - 2812)**2 + (z[2] - 2776)**2 + (z[3] - 3164)**2 + (z[4] - 4102)**2 + (z[5] - 4734)**2 + (z[6] - 4238)**2 + (z[7] - 4524)**2 + (z[8] - 4869)**2 + (z[9] - 4421)**2\n",
            "\n",
            "1 Constraint Declarations\n",
            "    constraints : Size=10, Index=constraints_index, Active=True\n",
            "        Key : Lower : Body                 : Upper : Active\n",
            "          1 :   0.0 :  z[0] - (a + 5045*b) :   0.0 :   True\n",
            "          2 :   0.0 :  z[1] - (a + 6127*b) :   0.0 :   True\n",
            "          3 :   0.0 :  z[2] - (a + 6360*b) :   0.0 :   True\n",
            "          4 :   0.0 :  z[3] - (a + 6645*b) :   0.0 :   True\n",
            "          5 :   0.0 :  z[4] - (a + 7220*b) :   0.0 :   True\n",
            "          6 :   0.0 :  z[5] - (a + 9537*b) :   0.0 :   True\n",
            "          7 :   0.0 :  z[6] - (a + 9895*b) :   0.0 :   True\n",
            "          8 :   0.0 : z[7] - (a + 10175*b) :   0.0 :   True\n",
            "          9 :   0.0 : z[8] - (a + 10334*b) :   0.0 :   True\n",
            "         10 :   0.0 : z[9] - (a + 10855*b) :   0.0 :   True\n",
            "\n",
            "7 Declarations: a b z_index z constraints_index constraints error\n"
          ],
          "name": "stdout"
        }
      ]
    },
    {
      "cell_type": "markdown",
      "metadata": {
        "id": "9CgsmJDnSXON"
      },
      "source": [
        "## Find Solution for Model1"
      ]
    },
    {
      "cell_type": "code",
      "metadata": {
        "id": "9iQb-uSpC-yh",
        "colab": {
          "base_uri": "https://localhost:8080/"
        },
        "outputId": "a818087e-f889-4bbc-83ba-9c148170aa64"
      },
      "source": [
        "# Solve the Objective Function for Model1! \n",
        "SolverFactory('ipopt', executable='/content/ipopt').solve(model1).write()\n",
        "\n",
        "# Print the results so they are easier to see and read!\n",
        "print(\"Objective Value = \", model1.error()) # Printing Objective Function Value \n",
        "print(\"A = \", model1.a()) # Printing Model A Value\n",
        "print(\"B = \", model1.b()) # Printing Model B Value\n",
        "a = model1.a() # a = Model1 A\n",
        "b = model1.b() # b = Model1 B"
      ],
      "execution_count": 19,
      "outputs": [
        {
          "output_type": "stream",
          "text": [
            "# ==========================================================\n",
            "# = Solver Results                                         =\n",
            "# ==========================================================\n",
            "# ----------------------------------------------------------\n",
            "#   Problem Information\n",
            "# ----------------------------------------------------------\n",
            "Problem: \n",
            "- Lower bound: -inf\n",
            "  Upper bound: inf\n",
            "  Number of objectives: 1\n",
            "  Number of constraints: 10\n",
            "  Number of variables: 12\n",
            "  Sense: unknown\n",
            "# ----------------------------------------------------------\n",
            "#   Solver Information\n",
            "# ----------------------------------------------------------\n",
            "Solver: \n",
            "- Status: ok\n",
            "  Message: Ipopt 3.12.13\\x3a Optimal Solution Found\n",
            "  Termination condition: optimal\n",
            "  Id: 0\n",
            "  Error rc: 0\n",
            "  Time: 0.01985335350036621\n",
            "# ----------------------------------------------------------\n",
            "#   Solution Information\n",
            "# ----------------------------------------------------------\n",
            "Solution: \n",
            "- number of solutions: 0\n",
            "  number of solutions displayed: 0\n",
            "Objective Value =  1044322.7618106224\n",
            "A =  635.9745463519116\n",
            "B =  0.38716502057937885\n"
          ],
          "name": "stdout"
        }
      ]
    },
    {
      "cell_type": "markdown",
      "metadata": {
        "id": "1zLFynpwK9ud"
      },
      "source": [
        "## Plot the Curve / Compare to Plot Generated Above"
      ]
    },
    {
      "cell_type": "code",
      "metadata": {
        "id": "Cr_QVYnGLRQW",
        "colab": {
          "base_uri": "https://localhost:8080/",
          "height": 299
        },
        "outputId": "c321d5ea-bb53-45ff-98a6-93a793b63183"
      },
      "source": [
        "## Plot the original data points provided in the problem above: \n",
        "  # Variables: DO = YY ; PC = ZZ\n",
        "plt.plot(YY, ZZ, 'o', label= 'Original Data') # Plotting YY and ZZ, labeling it 'Original Data'\n",
        "\n",
        "## Plot the line on graph using plot function\n",
        "  # Utilizing linear regression expression ('a + b*YY' ) in the plot function\n",
        "plt.plot(YY, a + b*YY, 'g', label= 'Linear Regression')\n",
        "plt.legend() # Using legend function to generate legend in left-hand corner \n",
        "plt.show() # Using show function to show plot \n",
        "\n",
        "# To confirm graph matches solutions provided, print values of a and b!\n",
        "print('a value:', a) # Printing Value a\n",
        "print('b value:', b) # Printing Value b "
      ],
      "execution_count": 20,
      "outputs": [
        {
          "output_type": "display_data",
          "data": {
            "image/png": "[encoded data removed]",
            "text/plain": [
              "<Figure size 432x288 with 1 Axes>"
            ]
          },
          "metadata": {
            "tags": [],
            "needs_background": "light"
          }
        },
        {
          "output_type": "stream",
          "text": [
            "a value: 635.9745463519116\n",
            "b value: 0.38716502057937885\n"
          ],
          "name": "stdout"
        }
      ]
    },
    {
      "cell_type": "markdown",
      "metadata": {
        "id": "qOv2-3-BSaKb"
      },
      "source": [
        "## Model1 Solutions Output (Matches Provided Answers)\n",
        "\n",
        "\n",
        "Linear Regression Equation: \n",
        "\n",
        "$PC = 635.97 +0.39(DO)$\n",
        "* Objective Value = 1,044,322.762\n",
        "* A = 635.97\n",
        "* B = 0.39\n",
        "\n",
        "\n",
        "\n",
        "\n",
        "\n",
        "\n",
        "\n"
      ]
    },
    {
      "cell_type": "markdown",
      "metadata": {
        "id": "zn0XuSXGpEA1"
      },
      "source": [
        "# Item 2\n",
        "\n",
        "\n",
        "Suppose, instead, that a better model than the linear model is thought to be the power function\n",
        "\n",
        "$\n",
        "PC = a(DO)^b.\n",
        "$\n",
        "\n",
        "Using the sum of squared differences, what values of $a$ and $b$ provide the best fit?  What is the minimum value of the objective function? \n",
        "\n",
        "**Try to start from $a = 1$ and $b = 1$.**\n",
        "\t\t\n",
        "**Optimal (?) solution $a = 2.44$ and $b = 0.82$, and optimal (?) value is 1,012,813.84.**\n",
        "\n",
        "\n"
      ]
    },
    {
      "cell_type": "markdown",
      "metadata": {
        "id": "AIMj4zAmQZo9"
      },
      "source": [
        "## Program Model2 Solution (i.e. Polynomial Regression Model)"
      ]
    },
    {
      "cell_type": "code",
      "metadata": {
        "id": "9WaUmQQo4HyU",
        "colab": {
          "base_uri": "https://localhost:8080/"
        },
        "outputId": "825fd78e-e9ca-4fd9-8d76-a3f9c7524e53"
      },
      "source": [
        "# Before building model2, declare it using 'model = ConcreteModel()' function\n",
        "model2 = ConcreteModel()\n",
        "\n",
        "### Count of variables in the data column\n",
        "  ## When we use the function to count it will come up with [0, 1, 2, 3, 4, 5, 6, 7, 8, 9] \n",
        "    # Number 9 indicating 10 variables (0 included)\n",
        "n_points = len(X)\n",
        "\n",
        "# Declare the decision variables in Model2\n",
        "model2.a = Var(domain=Reals,initialize = 1) # Intialize = 1 to Model2 A \n",
        "model2.b = Var(domain=Reals, initialize = 1) # Intialize = 1 to Model2 B \n",
        " # Build a range for the variable inputs to follow for Model2 Z\n",
        "model2.z = Var([i for i in range(n_points)],domain=Reals) # This also helps with the progression of the formula, meaning it will work down each variable input to find a final solution\n",
        "# Build out constraints in Model2\n",
        "model2.constraints = ConstraintList()\n",
        "\n",
        "# Predicted value in Model 2 (similar to model above)\n",
        "for i in range(n_points): # Clarify the range that the constraints are subject to (for i in range)\n",
        "  y = Y[i] ### The daily output is defined as y but set to the range of Y (DO) in the data variable inputs above\n",
        "            ## Each new section of the formula will pull the next value of Y in the variable column\n",
        "              # This is how it is able to switch the input\n",
        "  model2.constraints.add(model2.z[i] == model2.a * y**(model2.b)) ## There is a linear relation between Product Cost and Daily Output\n",
        "                                                                    # This formula builds that constraint for the objective function to follow\n",
        "\n",
        "# Objective Statement for minimimum value - Here we want the minimal value with respect to the constraints that we created above\n",
        "obj_expr = 0 # Setting objective for minimum value of 0\n",
        "for i in range(n_points):\n",
        "  obj_expr += (model2.z[i] - Z[i])**2 # Formula that addresses the sum of the values of each progressive variable in both columns Y and their respective variable in Z\n",
        "model2.error = Objective(\n",
        "                      expr = obj_expr, # Carry the objective formula into the proposed solution\n",
        "                      sense = minimize) # Minimizing the objective\n",
        "\n",
        "# Printing Model Solution\n",
        "model2.pprint() # Using Pretty Print function also here "
      ],
      "execution_count": 12,
      "outputs": [
        {
          "output_type": "stream",
          "text": [
            "2 Set Declarations\n",
            "    constraints_index : Size=1, Index=None, Ordered=Insertion\n",
            "        Key  : Dimen : Domain : Size : Members\n",
            "        None :     1 :    Any :   10 : {1, 2, 3, 4, 5, 6, 7, 8, 9, 10}\n",
            "    z_index : Size=1, Index=None, Ordered=Insertion\n",
            "        Key  : Dimen : Domain : Size : Members\n",
            "        None :     1 :    Any :   10 : {0, 1, 2, 3, 4, 5, 6, 7, 8, 9}\n",
            "\n",
            "3 Var Declarations\n",
            "    a : Size=1, Index=None\n",
            "        Key  : Lower : Value : Upper : Fixed : Stale : Domain\n",
            "        None :  None :     1 :  None : False : False :  Reals\n",
            "    b : Size=1, Index=None\n",
            "        Key  : Lower : Value : Upper : Fixed : Stale : Domain\n",
            "        None :  None :     1 :  None : False : False :  Reals\n",
            "    z : Size=10, Index=z_index\n",
            "        Key : Lower : Value : Upper : Fixed : Stale : Domain\n",
            "          0 :  None :  None :  None : False :  True :  Reals\n",
            "          1 :  None :  None :  None : False :  True :  Reals\n",
            "          2 :  None :  None :  None : False :  True :  Reals\n",
            "          3 :  None :  None :  None : False :  True :  Reals\n",
            "          4 :  None :  None :  None : False :  True :  Reals\n",
            "          5 :  None :  None :  None : False :  True :  Reals\n",
            "          6 :  None :  None :  None : False :  True :  Reals\n",
            "          7 :  None :  None :  None : False :  True :  Reals\n",
            "          8 :  None :  None :  None : False :  True :  Reals\n",
            "          9 :  None :  None :  None : False :  True :  Reals\n",
            "\n",
            "1 Objective Declarations\n",
            "    error : Size=1, Index=None, Active=True\n",
            "        Key  : Active : Sense    : Expression\n",
            "        None :   True : minimize : (z[0] - 2542)**2 + (z[1] - 2812)**2 + (z[2] - 2776)**2 + (z[3] - 3164)**2 + (z[4] - 4102)**2 + (z[5] - 4734)**2 + (z[6] - 4238)**2 + (z[7] - 4524)**2 + (z[8] - 4869)**2 + (z[9] - 4421)**2\n",
            "\n",
            "1 Constraint Declarations\n",
            "    constraints : Size=10, Index=constraints_index, Active=True\n",
            "        Key : Lower : Body              : Upper : Active\n",
            "          1 :   0.0 :  z[0] - a*5045**b :   0.0 :   True\n",
            "          2 :   0.0 :  z[1] - a*6127**b :   0.0 :   True\n",
            "          3 :   0.0 :  z[2] - a*6360**b :   0.0 :   True\n",
            "          4 :   0.0 :  z[3] - a*6645**b :   0.0 :   True\n",
            "          5 :   0.0 :  z[4] - a*7220**b :   0.0 :   True\n",
            "          6 :   0.0 :  z[5] - a*9537**b :   0.0 :   True\n",
            "          7 :   0.0 :  z[6] - a*9895**b :   0.0 :   True\n",
            "          8 :   0.0 : z[7] - a*10175**b :   0.0 :   True\n",
            "          9 :   0.0 : z[8] - a*10334**b :   0.0 :   True\n",
            "         10 :   0.0 : z[9] - a*10855**b :   0.0 :   True\n",
            "\n",
            "7 Declarations: a b z_index z constraints_index constraints error\n"
          ],
          "name": "stdout"
        }
      ]
    },
    {
      "cell_type": "markdown",
      "metadata": {
        "id": "rllA0PybTie0"
      },
      "source": [
        "## Solve Solution for Model2"
      ]
    },
    {
      "cell_type": "code",
      "metadata": {
        "colab": {
          "base_uri": "https://localhost:8080/"
        },
        "id": "UPVZ5tCermT5",
        "outputId": "097de884-7ec9-46f1-9930-ade7f7b46aaa"
      },
      "source": [
        "# Solve the Objective Function for Model2! \n",
        "SolverFactory('ipopt', executable='/content/ipopt').solve(model2).write()\n",
        "\n",
        "# Print the results so they are easier to see and read!\n",
        "print(\"Objective value = \", model2.error()) # Printing Objective Function Value \n",
        "print(\"A = \", model2.a()) # Printing Model2 A Value\n",
        "print(\"B = \", model2.b()) # Printing Model2 B Value\n",
        "a2 = model2.a() # Set a2 to equal model2.a \n",
        "b2 = model2.b() # Set b2 to equal model2.b "
      ],
      "execution_count": 13,
      "outputs": [
        {
          "output_type": "stream",
          "text": [
            "# ==========================================================\n",
            "# = Solver Results                                         =\n",
            "# ==========================================================\n",
            "# ----------------------------------------------------------\n",
            "#   Problem Information\n",
            "# ----------------------------------------------------------\n",
            "Problem: \n",
            "- Lower bound: -inf\n",
            "  Upper bound: inf\n",
            "  Number of objectives: 1\n",
            "  Number of constraints: 10\n",
            "  Number of variables: 12\n",
            "  Sense: unknown\n",
            "# ----------------------------------------------------------\n",
            "#   Solver Information\n",
            "# ----------------------------------------------------------\n",
            "Solver: \n",
            "- Status: ok\n",
            "  Message: Ipopt 3.12.13\\x3a Optimal Solution Found\n",
            "  Termination condition: optimal\n",
            "  Id: 0\n",
            "  Error rc: 0\n",
            "  Time: 0.022488832473754883\n",
            "# ----------------------------------------------------------\n",
            "#   Solution Information\n",
            "# ----------------------------------------------------------\n",
            "Solution: \n",
            "- number of solutions: 0\n",
            "  number of solutions displayed: 0\n",
            "Objective value =  1012813.8446243252\n",
            "A =  2.4406061627415148\n",
            "B =  0.8165412847935575\n"
          ],
          "name": "stdout"
        }
      ]
    },
    {
      "cell_type": "markdown",
      "metadata": {
        "id": "EwKeKvMTjIS_"
      },
      "source": [
        "## Plot the Curve / Compare Power and Linear Regressions"
      ]
    },
    {
      "cell_type": "code",
      "metadata": {
        "colab": {
          "base_uri": "https://localhost:8080/",
          "height": 299
        },
        "id": "xfzi5h1eP30K",
        "outputId": "c8937b56-c756-43e7-ea98-6a87eed6943d"
      },
      "source": [
        "## Plot the original data points provided in the problem above: \n",
        "  # Variables: DO = YY ; PC = ZZ\n",
        "plt.plot(YY, ZZ, 'o', label= 'Original Data') # Plotting YY and ZZ, labeling it 'Original Data'\n",
        "\n",
        "### Plot the line on graph using plot function\n",
        "  ## Utilizing power regression expression ('a2*yy**b2') in the plot function\n",
        "    # Also utilizing linear regression expression ('a + b*YY' ) in the plot function\n",
        "plt.plot(YY, a2*YY**b2, 'b', label= 'Power Regression')\n",
        "plt.plot(YY, a + b*YY, 'g', label= 'Linear Regression')\n",
        "plt.legend() # Using legend function to generate legend in left-hand corner \n",
        "plt.show() # Using show function to show plot \n",
        "\n",
        "# To confirm graph matches solutions provided, print values of a and b!\n",
        "print ('a value:', a2) # Printing Value a2 from model 2\n",
        "print ('b value:', b2) # Printing Value b2 from model 2"
      ],
      "execution_count": 14,
      "outputs": [
        {
          "output_type": "display_data",
          "data": {
            "image/png": "[encoded data removed]",
            "text/plain": [
              "<Figure size 432x288 with 1 Axes>"
            ]
          },
          "metadata": {
            "tags": [],
            "needs_background": "light"
          }
        },
        {
          "output_type": "stream",
          "text": [
            "a value: 2.4406061627415148\n",
            "b value: 0.8165412847935575\n"
          ],
          "name": "stdout"
        }
      ]
    },
    {
      "cell_type": "markdown",
      "metadata": {
        "id": "IBJh5vfETy9J"
      },
      "source": [
        "## Model2 Solutions Output (Matches Provided Answers)\n",
        "\n",
        "\n",
        "Power Regression Equation: \n",
        "\n",
        "$PC = 2.44 (DO) ^ .82$\n",
        "* Objective Value = 1,012,813.84\n",
        "* A = 2.44\n",
        "* B = 0.82"
      ]
    }
  ]
}
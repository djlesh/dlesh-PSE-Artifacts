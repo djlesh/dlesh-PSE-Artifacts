{
  "nbformat": 4,
  "nbformat_minor": 0,
  "metadata": {
    "colab": {
      "name": "Module 2 Individual Assignment - Daniel Lesh",
      "provenance": [],
      "collapsed_sections": []
    },
    "kernelspec": {
      "name": "python3",
      "display_name": "Python 3"
    }
  },
  "cells": [
    {
      "cell_type": "markdown",
      "metadata": {
        "id": "-PogPMiHA84T"
      },
      "source": [
        "# Individual M1 Practice Problems: Iris EDA\n",
        "\n",
        "--------------------------------------------------------------------------\n",
        "* Daniel Lesh\n",
        "* djl17006\n",
        "\n",
        "**Description:** This is a very standard dataset from analytics and data science - the Iris dataset. \n",
        "\n",
        "Here is a link to the description of the dataset (yes - it is from 1988 - and it is still the 'hello world' of data analysis): https://archive.ics.uci.edu/ml/datasets/iris\n",
        "\n",
        "You may work with your fellow classmates, but you need to complete the assignment on your own. I expect different headers and COMMENTS (comments are the key to showing that you really know your stuff - without comments, your code is useless to me).\n",
        "\n",
        "**Rubric:**\n",
        "* (100 pts total, 10 pts each) To receive full credit on each item - plots, tables, calculations must have been made accurately and be well-labeled. Comments should be provided for all arguments (strive for one comment per line). We want to be able to tell you know your stuff!\n",
        "\n",
        "Mount your Google Drive and read in the data as `df`.\n",
        "\n",
        "1. Run df.info() and check for any missing values. How do you know there aren't any missing values?\n",
        "2. Calculate the 10th, 30th, 50th, 70th, and 90th  percentile of `petal length`. Then do the same for `petal width`.\n",
        "3. Subset all rows where df['iris'] is equal to 'Iris-setosa' and assign to a variable called `tmp`. Print a) the shape of `tmp` and b) then show the first 5 rows of the dataframe using head. Then make a boxplot of the sepal width. Add good labels to all axes and a meaningful title.\n",
        "4. Subset all rows where df['iris'] is equal to 'Iris-versicolor' and assign to a variable called `tmp2`. Print a) the shape of `tmp2` and b) then show the first 5 rows of the dataframe using head. Then make a blue histogram of the petal width. Add good labels to all axes and a meaningful title.\n",
        "5. Subset all rows where df['iris'] is equal to 'Iris-virginica' and assign to a variable called `tmp3`. Print a) the shape of `tmp3` and b) then show the first 5 rows of the dataframe using head. Then make a scatterplot with red dots of the sepal length vs. the sepal width. Add good labels to all axes and a meaningful title.\n",
        "6. Using `df`, count the number of rows where sepal length is greater than 3.5.\n",
        "7. Using `df`, count the number of rows where sepal length is greater than 3.5 and sepal width is less than 3.2.\n",
        "8. Using `df`, count the number of rows where sepal width is greater than the 83th percentile for sepal width. \n",
        "9. Make a density plot for sepal width, but make sure there are 3 curves on the single graph - one for each type of Iris.\n",
        "10. Make a boxplot petal width, but make sure there are 3 boxplots on the single graph - one for each type of Iris."
      ]
    },
    {
      "cell_type": "markdown",
      "metadata": {
        "id": "OjD9-KNjZGOF"
      },
      "source": [
        "**Import Google Drive Folder, Python Modules, and Data Set**"
      ]
    },
    {
      "cell_type": "code",
      "metadata": {
        "id": "WdJQFMxvA6uM"
      },
      "source": [
        "# Mount Google Colab to personal drive \n",
        "\n",
        "from google.colab import drive \n",
        "drive.mount ('/content/drive')\n"
      ],
      "execution_count": null,
      "outputs": []
    },
    {
      "cell_type": "code",
      "metadata": {
        "id": "Ooo3cAIDF5WQ"
      },
      "source": [
        "# Import various Python modules for analysis:\n",
        "\n",
        "import pandas as pd # for data analysis \n",
        "import numpy as np # for numeric function\n",
        "import matplotlib.pyplot as plt # for plotting \n",
        "import seaborn as sns # library for boxplots and other plot functions "
      ],
      "execution_count": 2,
      "outputs": []
    },
    {
      "cell_type": "code",
      "metadata": {
        "id": "4NKQfxbCIAcu"
      },
      "source": [
        "# Set \"df1\" value to Individual Assignment #2 Folder where iris.data is located \n",
        "  ## iris.data located in ('/content/drive/MyDrive/5) OPIM 3803/Module 2/Individual Assignment #2/iris.data')\n",
        " \n",
        "df1 = pd.read_csv('/content/drive/MyDrive/5) OPIM 3803/Module 2/Module 2 Individual Assignment/iris.data')"
      ],
      "execution_count": 6,
      "outputs": []
    },
    {
      "cell_type": "markdown",
      "metadata": {
        "id": "qaBJBtATfU8l"
      },
      "source": [
        "## **Problem #1**: Run df.info() and check for any missing values. How do you know there aren't any missing values?"
      ]
    },
    {
      "cell_type": "code",
      "metadata": {
        "id": "aPoeEVkUJEzb"
      },
      "source": [
        "# Check iris.data for any missing values\n",
        "  ## Also perform data frame evaluation in examining shape, column names, and data types \n",
        "\n",
        "df1.info('iris.data') # Checking for missing (null) values "
      ],
      "execution_count": null,
      "outputs": []
    },
    {
      "cell_type": "markdown",
      "metadata": {
        "id": "b_06cezdMZwY"
      },
      "source": [
        "*   We know that there are no missing data values in the data set because the 'Non-Null Count' is equivalent to the 'RangeIndex:' of data entries in the data set. With this, if there were missing data values found, the range of entries found in the 'Non-Null Count' would be less than the 'RangeIndex:' which is equal to 149 entries. \n"
      ]
    },
    {
      "cell_type": "markdown",
      "metadata": {
        "id": "M0dEzPdmfc8W"
      },
      "source": [
        "## **Problem #1, Part 2:** Rename columns to show names provided in iris.names .txt file. Names corresponding to each row are \n",
        "*   5.1 = sepal.length\n",
        "*   3.5 = sepal.width\n",
        "*   1.4 = petal.length\n",
        "*   0.2 = petal.width\n",
        "*   Iris-setosa = class\n",
        "\n",
        "\n"
      ]
    },
    {
      "cell_type": "code",
      "metadata": {
        "id": "XIOcbgwJcJJt"
      },
      "source": [
        "# Rename 'df1' to df so columns are changed to their respective name for each column\n",
        "df=df1.rename(columns = {'5.1': 'sepal.length', '3.5': 'sepal.width', '1.4': \n",
        "                         'petal.length', '0.2': 'petal.width', 'Iris-setosa': \n",
        "                         'Iris'}, inplace = False)\n",
        "print(df) # Print data set values to make sure column name changes have taken place"
      ],
      "execution_count": null,
      "outputs": []
    },
    {
      "cell_type": "code",
      "metadata": {
        "id": "gAg4T78cMCzb"
      },
      "source": [
        "# How to check data frame headings\n",
        "df.head(5) # Returns first 'n' amount of rows of data specified in function \n",
        "            ## n = 5 "
      ],
      "execution_count": null,
      "outputs": []
    },
    {
      "cell_type": "code",
      "metadata": {
        "id": "D60EQ32qMFHa"
      },
      "source": [
        "# How to check data frame shape\n",
        "df.shape # Returns the amount of  columns and rows in the data set \n",
        "          ## In this example, I find that there are 149 rows and 5 columns of data. "
      ],
      "execution_count": null,
      "outputs": []
    },
    {
      "cell_type": "code",
      "metadata": {
        "id": "xdCmGLkmMH_q"
      },
      "source": [
        "# How to also check data frame column names\n",
        "df.columns # Returns the the column headings in data set "
      ],
      "execution_count": null,
      "outputs": []
    },
    {
      "cell_type": "code",
      "metadata": {
        "id": "u61ac73vMJUL"
      },
      "source": [
        "# How to check data types in the data set \n",
        "df.dtypes # Returns the data types in the data set "
      ],
      "execution_count": null,
      "outputs": []
    },
    {
      "cell_type": "markdown",
      "metadata": {
        "id": "LazsThJGXhjj"
      },
      "source": [
        "## **Problem #2**: Calculate the 10th, 30th, 50th, 70th, and 90th percentile of petal length. Then do the same for petal width.\n",
        "\n"
      ]
    },
    {
      "cell_type": "code",
      "metadata": {
        "id": "U8xv0n1aReA6"
      },
      "source": [
        "df.describe() # Gives summary stats of the iris.data being evaluated "
      ],
      "execution_count": null,
      "outputs": []
    },
    {
      "cell_type": "code",
      "metadata": {
        "id": "D6sp8gNkRgKV"
      },
      "source": [
        "# Check for Percentiles in petal.length column in df\n",
        "# Included print function to make code easier to read and provide the percentiles that are being sourced in iris.data\n",
        "\n",
        "print(\"Percentiles for 'pedal.length': 10th, 30th, 50th, 70th, 90th\")\n",
        "df['petal.length'].quantile([0.1, 0.3, 0.5, 0.7, 0.9])"
      ],
      "execution_count": null,
      "outputs": []
    },
    {
      "cell_type": "code",
      "metadata": {
        "id": "wzi7KAnOXN1W"
      },
      "source": [
        "# Similar to petal.length, check for Percentiles in petal.width column in df\n",
        "# Included print function to make code easier to read and provide the percentiles that are being sourced in iris.data\n",
        "\n",
        "print(\"Percentiles for 'pedal.width': 10th, 30th, 50th, 70th, 90th\")\n",
        "df['petal.width'].quantile([0.1, 0.3, 0.5, 0.7, 0.9])"
      ],
      "execution_count": null,
      "outputs": []
    },
    {
      "cell_type": "markdown",
      "metadata": {
        "id": "tDBZFIYKY5QU"
      },
      "source": [
        "## **Problem #3**: Subset all rows where df['iris'] is equal to 'Iris-setosa' and assign to a variable called tmp. Print a) the shape of tmp and b) then show the first 5 rows of the dataframe using head. Then make a boxplot of the sepal width. Add good labels to all axes and a meaningful title."
      ]
    },
    {
      "cell_type": "code",
      "metadata": {
        "id": "2EX9D7ZcbMY0"
      },
      "source": [
        "# Subset data so where \"Iris\" column = \"Iris-setosa\", it is definied as 'Iris_setosa'\n",
        "Iris_setosa=df[df[\"Iris\"]==\"Iris-setosa\"] \n",
        "\n",
        "# Defining variable 'tmp' to only include values in column 'Iris' with 'Iris-setosa' \n",
        "tmp = Iris_setosa\n",
        "\n",
        "# Print shape of 'tmp' data which is only the 'Iris-setosa' values found in \"Iris\" column\n",
        "print(tmp.shape)"
      ],
      "execution_count": null,
      "outputs": []
    },
    {
      "cell_type": "code",
      "metadata": {
        "id": "qHBEGmdyxVui"
      },
      "source": [
        "# Print the first 5 headings of 'tmp' data which is only the 'Iris-setosa' values found in \"Iris\" column\n",
        "print(tmp.head(5))"
      ],
      "execution_count": null,
      "outputs": []
    },
    {
      "cell_type": "code",
      "metadata": {
        "id": "zRNyoXyPyc9o"
      },
      "source": [
        "# Print boxplot with Iris_setosa and Sepal width. \n",
        "  ## In the line of code below, I am  creating a boxplot of Iris_setosa and sepal width by pulling from the 'tmp' variable I created above!\n",
        "\n",
        "sns.boxplot(x='Iris', y='sepal.width',data=tmp) # X defines the type of Iris being plotted (Iris_setosa [tmp]), Y will define the sepal width of the data \n",
        "plt.xlabel('Iris Type') # This sets the label for the x-axis\n",
        "plt.ylabel('Sepal Width') # This sets the lable for the y-axis\n",
        "plt.title('Boxplot of types of Iris and Sepal Width') # This sets the title for the boxplot\n",
        "plt.show() # show boxplot\n",
        "\n",
        "# Extra boxplot to show all types of Iris in the same boxplot! \n",
        "  ## In the line of code below, I am are creating a boxplot of Iris_setosa and sepal width, by pulling from the 'df' I created in the beginning of my script!\n",
        "\n",
        "sns.boxplot(x='Iris', y='sepal.width',data=df) # X defines the type of Iris being plotted (Iris_setosa), Y will define the sepal width of the data \n",
        "plt.xlabel('Iris Type') # This sets the label for the x-axis\n",
        "plt.ylabel('Sepal Width') # This sets the lable for the y-axis\n",
        "plt.title('Boxplot of types of Iris and Sepal Width') # This sets the title for the boxplot\n",
        "plt.show() # show boxplot"
      ],
      "execution_count": null,
      "outputs": []
    },
    {
      "cell_type": "markdown",
      "metadata": {
        "id": "hpSxbM2IZXZ-"
      },
      "source": [
        "## **Problem #4**: Subset all rows where df['iris'] is equal to 'Iris-versicolor' and assign to a variable called tmp2. Print a) the shape of tmp2 and b) then show the first 5 rows of the dataframe using head. Then make a blue histogram of the petal width. Add good labels to all axes and a meaningful title."
      ]
    },
    {
      "cell_type": "code",
      "metadata": {
        "id": "pINNHmB2vW6-"
      },
      "source": [
        "# Subset data so where \"Iris\" column = \"Iris-versicolor\", it is definied as 'Iris_versicolor'\n",
        "Iris_versicolor=df[df[\"Iris\"]==\"Iris-versicolor\"]\n",
        "\n",
        "# Defining variable 'tmp2' to only include values in column 'Iris' with 'Iris-versicolor' \n",
        "tmp2 = Iris_versicolor\n",
        "\n",
        "# Print shape of 'tmp2' data which is only the 'Iris-versicolor' values found in \"Iris\" column\n",
        "tmp2.shape"
      ],
      "execution_count": null,
      "outputs": []
    },
    {
      "cell_type": "code",
      "metadata": {
        "id": "Cd52j9T3yCsD"
      },
      "source": [
        "# Print the first 5 headings of 'tmp2' data which is only the 'Iris-versicolor' values found in \"Iris\" column\n",
        "print(tmp2.head(5))"
      ],
      "execution_count": null,
      "outputs": []
    },
    {
      "cell_type": "code",
      "metadata": {
        "id": "ZtaPAEWL4qaE"
      },
      "source": [
        "# Print histogram with Iris type and pedal width. \n",
        "  ## In the line of code below I am creating a histogram of Iris_versicolor and sepal width by pulling from the 'tmp2' variable I created above!\n",
        "\n",
        "sns.histplot(x='Iris', y='petal.width',data=tmp2) # X defines the type of Iris being plotted (Iris_versicolor [tmp2]), Y will define the petal width of the data \n",
        "plt.xlabel('Iris Type') # This sets the label for the x-axis\n",
        "plt.ylabel('Petal Width') # This sets the lable for the y-axis\n",
        "plt.title('Boxplot of types of Iris and Petal Width') # This sets the title for the histogram\n",
        "plt.show() # show histogram\n",
        "\n",
        "# Extra histogram to show all types of Iris in the same histogram! \n",
        "  ## In the line of code below, I am are creating a histogram of Iris_setosa and petal width, by pulling from the 'df' I created in the beginning of my script!\n",
        "\n",
        "sns.histplot(x='Iris', y='petal.width',data=df) # X defines the type of Iris being plotted, Y will define the petal width of the data \n",
        "plt.xlabel('Iris Type') # This sets the label for the x-axis\n",
        "plt.ylabel('Petal Width') # This sets the lable for the y-axis\n",
        "plt.title('Boxplot of types of Iris and Sepal Width') # This sets the title for the boxplot\n",
        "plt.show() # show boxplot"
      ],
      "execution_count": null,
      "outputs": []
    },
    {
      "cell_type": "markdown",
      "metadata": {
        "id": "uG3ytuRMZfc3"
      },
      "source": [
        "## **Problem #5**: Subset all rows where df['iris'] is equal to 'Iris-virginica' and assign to a variable called tmp3. Print a) the shape of tmp3 and b) then show the first 5 rows of the dataframe using head. Then make a scatterplot with red dots of the sepal length vs. the sepal width. Add good labels to all axes and a meaningful title."
      ]
    },
    {
      "cell_type": "code",
      "metadata": {
        "id": "ZNOpUKhwvXx3"
      },
      "source": [
        "# Subset data so where \"Iris\" column = \"Iris-virginica\", it is definied as 'Iris_virginica'\n",
        "Iris_virginica=df[df[\"Iris\"]==\"Iris-virginica\"]\n",
        "\n",
        "# Defining variable 'tmp3' to only include values in column 'Iris' with 'Iris-virginica' \n",
        "tmp3 = Iris_virginica\n",
        "\n",
        "# Print shape of 'tmp3' data which is only the 'Iris-virginica' values found in \"Iris\" column\n",
        "print(tmp3.shape)"
      ],
      "execution_count": null,
      "outputs": []
    },
    {
      "cell_type": "code",
      "metadata": {
        "id": "SdeYndm6y7Th"
      },
      "source": [
        "# Print the first 5 headings of 'tmp3' data which is only the 'Iris-virginica' values found in \"Iris\" column\n",
        "print(tmp3.head(5))"
      ],
      "execution_count": null,
      "outputs": []
    },
    {
      "cell_type": "code",
      "metadata": {
        "id": "ftAiiurt7Iin"
      },
      "source": [
        "# Print Scatterplot of the Sepal Length vs Sepal Width\n",
        "df.plot.scatter(x='sepal.length', y='sepal.width', color='red') # Sepal.length will be plotted on the x-axis, Sepal.width will be plotted on the y-axis\n",
        "plt.xlabel('Sepal Length') # Labeling x-axis as 'Sepal Length'\n",
        "plt.ylabel('Sepal Width') # Labeling y-axis as 'Sepal Width'\n",
        "plt.title('Sepal Length vs. Sepal Width') # Labeling title of scatterplot as \"Sepal Length vs. Sepal Width\"\n",
        "plt.show() # show scatterplot"
      ],
      "execution_count": null,
      "outputs": []
    },
    {
      "cell_type": "markdown",
      "metadata": {
        "id": "PYdLjsyUZmJx"
      },
      "source": [
        "## **Problem #6**: Using df, count the number of rows where sepal length is greater than 3.5."
      ]
    },
    {
      "cell_type": "code",
      "metadata": {
        "id": "yUFwKjgnckMN"
      },
      "source": [
        "# First, I am defining a FLAG variable ('FLAG_sepallength'). This will look at all the values in the sepal.length column and see if the values in that column are greater than 3.5\n",
        "  ## If sepal length is greater than 3.5 and is true, it will assign a 1 to that value in the new column 'FLAG_sepallength'. \n",
        "  ## If it is false, it will assign it a 0 \n",
        "\n",
        "df['FLAG_sepallength'] = np.where(df['sepal.length'] > 3.5, 1, 0) # Creating 'FLAG_sepallength' column\n",
        "sum(df['FLAG_sepallength']) # Summing all the values that are assigned '1'. If true, it will provide the output of how many rows have sepal.length > 3.5\n",
        "                            # All values have sepal.length > 3.5, thus why its sum come out to 149."
      ],
      "execution_count": null,
      "outputs": []
    },
    {
      "cell_type": "markdown",
      "metadata": {
        "id": "ss75WDdeZwvI"
      },
      "source": [
        "## **Problem #7**: Using df, count the number of rows where sepal length is greater than 3.5 and sepal width is less than 3.2."
      ]
    },
    {
      "cell_type": "code",
      "metadata": {
        "id": "434edSaijghm"
      },
      "source": [
        "# First, I am defining another FLAG variable ('FLAG_sepalwidth'). This will look at all the values in the sepal.width column and see if the values in that column are less than 3.2\n",
        "  ## If sepal width is less than to 3.2 and is true, it will assign a 1 to that value in the new column 'FLAG_sepalwidth'. \n",
        "  ## If it is false, it will assign it a 0 \n",
        "\n",
        "df['FLAG_sepalwidth'] = np.where(df['sepal.width'] < 3.2, 1, 0) # Creating 'FLAG_sepallength' column\n",
        "sum(df['FLAG_sepalwidth']) # Summing all the values that are assigned '1'. If true, it will provide the output of how many rows have sepal.width < 3.2\n",
        "sum(df['FLAG_sepallength']) - sum(df['FLAG_sepalwidth']) # Subtract the sum of 'FLAG_sepallength' from the sum of 'FLAG_sepalwidth' to find the how many rows fit the criteria \n",
        "                                                         # Sum of values where 'FLAG_sepallength' > 3.5 - 'FLAG_sepalwidth' < 3.2, thus why its sum come out to 54."
      ],
      "execution_count": null,
      "outputs": []
    },
    {
      "cell_type": "markdown",
      "metadata": {
        "id": "3S3r8G5raAjX"
      },
      "source": [
        "## **Problem #8**: Using df, count the number of rows where sepal width is greater than the 83th percentile for sepal width."
      ]
    },
    {
      "cell_type": "code",
      "metadata": {
        "id": "gRhRKImknocP"
      },
      "source": [
        "# Calculate the 83rd percentile of sepal width. \n",
        "df['sepal.width'].quantile(.83) # Calculating 83rd percentile of sepal.width "
      ],
      "execution_count": null,
      "outputs": []
    },
    {
      "cell_type": "code",
      "metadata": {
        "id": "UcLIJHmgpDcs"
      },
      "source": [
        "# First, I am defining another FLAG variable ('FLAG_sepalwidth83'). This will look at all the values in the sepal.width column and see if the values in that column are greater than to the 83rd percentile of sepal.width\n",
        "  ## If sepal width is greater than the 83rd percentile of sepal width, it will assign a 1 to that value in the new column 'FLAG_sepalwidth'. \n",
        "\n",
        "df['FLAG_sepalwidth83'] = np.where(df['sepal.width'] > 3.3999999999999995, 1, 0) # Summing all the values that are assigned '1'. If true, it will provide the output of how many rows have sepal.width > 8rd percentile of sepal.width\n",
        "sum(df['FLAG_sepalwidth83']) # Summing all the values that are assigned '1'. If true, it will provide the output of how many rows have sepal.width > 83rd percentile of sepal.width\n",
        "                             # Sum of values have sepal.width > 83rd percentile of sepal.width, thus why its sum come out to 35."
      ],
      "execution_count": null,
      "outputs": []
    },
    {
      "cell_type": "markdown",
      "metadata": {
        "id": "ugZAedZCaNfT"
      },
      "source": [
        "## **Problem #9**: Make a density plot for sepal width, but make sure there are 3 curves on the single graph - one for each type of Iris."
      ]
    },
    {
      "cell_type": "code",
      "metadata": {
        "id": "D01pzdHT9vWZ"
      },
      "source": [
        "# Density plot of sepal width for each type of Iris\n",
        "\n",
        "plt.figure(figsize=(10,7), dpi = 80) # Set plot size so it comes out clean and easy to read \n",
        "sns.kdeplot(df['sepal.width'][df.Iris == \"Iris-setosa\"], label = 'Iris Setosa') # Defined the column of data we wanted to pull from \"sepal.width\" and then grouped it by Iris Type. This line covers Iris-setosa \n",
        "sns.kdeplot(df['sepal.width'][df.Iris == \"Iris-versicolor\"], label = 'Iris Versicolor') # Defined the column of data we wanted to pull from \"sepal.width\" and then grouped it by Iris Type. This line covers Iris-versicolor \n",
        "sns.kdeplot(df['sepal.width'][df.Iris == \"Iris-virginica\"], label = 'Iris Virginica') # Defined the column of data we wanted to pull from \"sepal.width\" and then grouped it by Iris Type. This line covers Iris-virginica \n",
        "plt.title(\"Density Plot of Sepal Width for Each Iris Type\") # Set the title for the plot \n",
        "plt.xlabel(\"Population Density for Each Iris Type\") # set the xlabel for the plot as 'Population Density for Each Iris Type'\n",
        "plt.ylabel(\"Sepal Width\") # Set the ylabel for the plot as 'Sepal Width'\n",
        "plt.legend() # Set legend for the plot\n",
        "plt.show() # Show the masterpiece creation of my density plot! "
      ],
      "execution_count": null,
      "outputs": []
    },
    {
      "cell_type": "markdown",
      "metadata": {
        "id": "iZwfasO4aVfo"
      },
      "source": [
        "## **Problem #10**: Make a boxplot petal width, but make sure there are 3 boxplots on the single graph - one for each type of Iris."
      ]
    },
    {
      "cell_type": "code",
      "metadata": {
        "id": "ERwPwiNK9TYe"
      },
      "source": [
        "# Print boxplot with all 3 Iris types and petal width. \n",
        "plt.figure(figsize=(10,7), dpi = 80) # Set plot size so it comes out clean and easy to read \n",
        "sns.boxplot(x='Iris', y='petal.width',data=df) # X defines the type of Iris being plotted, Y will define the petal width of the data \n",
        "plt.xlabel('Iris Type') # This sets the label for the x-axis\n",
        "plt.ylabel('Petal Width') # This sets the lable for the y-axis\n",
        "plt.title('Boxplot of types of Iris and Petal Width') # This sets the title for the boxplot\n",
        "plt.show() # Show the masterpiece creation of my density plot! "
      ],
      "execution_count": null,
      "outputs": []
    }
  ]
}
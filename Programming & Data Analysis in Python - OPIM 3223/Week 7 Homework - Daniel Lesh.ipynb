{
 "cells": [
  {
   "cell_type": "markdown",
   "id": "63c8fabc",
   "metadata": {},
   "source": [
    "## Restaurant part 1\n",
    "- Make a class called Restaurant. The __init__() method for Restaurant should store two attributes: a restaurant_name and cuisine_type.\n",
    "- Make a method called describe_restaurant() that prints the two attributes.\n",
    "- Make a method called open_restaurant that prints a message indicating that the restaurant is open.\n",
    "- Make an instance called restaurant from your class. \n",
    "- Using your instance of the class print the two attributes and then call both methods. "
   ]
  },
  {
   "cell_type": "code",
   "execution_count": 30,
   "id": "c35120d1",
   "metadata": {},
   "outputs": [
    {
     "name": "stdout",
     "output_type": "stream",
     "text": [
      "Joe's Place serves American Food\n",
      "The restaurant, Joe's Place, is open!\n",
      "Joe's Place\n",
      "American Food\n"
     ]
    }
   ],
   "source": [
    "class Restaurant: \n",
    "    \"\"\"A class representing a restaurant.\"\"\"\n",
    "\n",
    "    def __init__ (self, restaurant_name, cuisine_type): \n",
    "        self.restaurant_name = restaurant_name\n",
    "        self.cuisine_type = cuisine_type\n",
    "        \n",
    "    def describe_restaurant(self): \n",
    "        print(f\"{self.restaurant_name} serves {self.cuisine_type}\")\n",
    "    \n",
    "    def restaurant_is_open(self):\n",
    "        print(f\"The restaurant, {self.restaurant_name}, is open!\")\n",
    "\n",
    "my_restaurant = Restaurant(\"Joe's Place\", \"American Food\")\n",
    "my_restaurant.describe_restaurant() \n",
    "my_restaurant.restaurant_is_open()\n",
    "\n",
    "print(my_restaurant.restaurant_name) \n",
    "print(my_restaurant.cuisine_type)"
   ]
  },
  {
   "cell_type": "markdown",
   "id": "77ff241e",
   "metadata": {},
   "source": [
    "## Restaurant part 2\n",
    "- Start with the program from above and add an attribute called number_served with a default value of 0.\n",
    "- Add a method called increment_number_served() that lets you increment the number of customers who have been served. Make sure that this method only accepts positive numbers. If the information provided to the method is not positive your method should print an error message to the user. If the information is valid, your method should print the number of customers served. \n",
    "- Using your restaurant instance call your increment_number_served() method twice. Once with a positive number and another time with a negative number."
   ]
  },
  {
   "cell_type": "code",
   "execution_count": 34,
   "id": "c32e2820",
   "metadata": {
    "scrolled": true
   },
   "outputs": [
    {
     "name": "stdout",
     "output_type": "stream",
     "text": [
      "Joe's Place\n",
      "American Food\n",
      "Joe's Place serves American Food\n",
      "The restaurant, Joe's Place, is open!\n",
      "You cannot decrease the amount of customers served.\n"
     ]
    },
    {
     "data": {
      "text/plain": [
       "40"
      ]
     },
     "execution_count": 34,
     "metadata": {},
     "output_type": "execute_result"
    }
   ],
   "source": [
    "class Restaurant:\n",
    "    \"\"\"A class representing a restaurant.\"\"\"\n",
    "\n",
    "    def __init__ (self, restaurant_name, cuisine_type): \n",
    "        self.restaurant_name = restaurant_name\n",
    "        self.cuisine_type = cuisine_type\n",
    "        self.customers_served = 0 # Change this number to add to number served below. \n",
    "        \n",
    "    def describe_restaurant(self): \n",
    "        print(f\"{self.restaurant_name} serves {self.cuisine_type}\")\n",
    "    \n",
    "    def restaurant_is_open(self):\n",
    "        print(f\"The restaurant, {self.restaurant_name}, is open!\")\n",
    "        \n",
    "    def customers_served(self):\n",
    "        print(f\"There have been {self.customers_served} customers served.\")\n",
    "        \n",
    "    def update_numbers_served(self, additional_ppl_served): \n",
    "        if additional_ppl_served >= self.customers_served: \n",
    "            self.customers_served = additional_ppl_served \n",
    "        else: \n",
    "            print(\"You cannot decrease the amount of customers served.\") \n",
    "            \n",
    "    def increment_number_served(self, more_served): \n",
    "        if more_served >= 0: \n",
    "            self.customers_served += more_served\n",
    "        else: \n",
    "            print(\"You cannot decrease the amount of customers served.\") \n",
    "    \n",
    "\n",
    "my_restaurant = Restaurant(\"Joe's Place\", \"American Food\")\n",
    "print(my_restaurant.restaurant_name) \n",
    "print(my_restaurant.cuisine_type)\n",
    "\n",
    "my_restaurant.describe_restaurant() \n",
    "my_restaurant.restaurant_is_open()\n",
    "\n",
    "my_restaurant.increment_number_served(40)\n",
    "my_restaurant.customers_served\n",
    "\n",
    "my_restaurant.increment_number_served(-40)\n",
    "my_restaurant.customers_served"
   ]
  },
  {
   "cell_type": "markdown",
   "id": "d4995712",
   "metadata": {},
   "source": [
    "## Restaurant part 3\n",
    "- Write a child class called FastFoodRestaurant which inherits from the Restaurant class you wrote above.\n",
    "- The FastFoodRestaurant should have an attribute called menu which is a list of food the restaurant serves. Add three items to the menu attribute.\n",
    "- Write a method called check_menu() that takes in a parameter and checks to see if the item is on the menu. The method should print out if the item is on the menu or not.\n",
    "- Call the check_menu() method with an item that is on the menu and one that is not."
   ]
  },
  {
   "cell_type": "code",
   "execution_count": 29,
   "id": "64d5c75f",
   "metadata": {},
   "outputs": [
    {
     "name": "stdout",
     "output_type": "stream",
     "text": [
      "We serve a Big Mac on our menu!\n",
      "We serve a Chicken Sandwich on our menu!\n",
      "We serve a French Fries on our menu!\n",
      "We do not currently serve pasta on our menu.\n"
     ]
    }
   ],
   "source": [
    "class FastFoodRestaurant(Restaurant):\n",
    "    \n",
    "    def __init__(self, menu):\n",
    "        self.menu = ('big mac', 'chicken sandwich', 'french fries')\n",
    "    \n",
    "    def check_menu(self, food_item): \n",
    "        if food_item in self.menu: \n",
    "            print(f\"We serve a {food_item.title()} on our menu!\")\n",
    "        else: \n",
    "            print(f\"We do not currently serve {food_item} on our menu.\")\n",
    "\n",
    "order_food_item = FastFoodRestaurant('')\n",
    "                  \n",
    "order_food_item.check_menu('big mac') \n",
    "order_food_item.check_menu('chicken sandwich') \n",
    "order_food_item.check_menu('french fries') \n",
    "order_food_item.check_menu('pasta')"
   ]
  }
 ],
 "metadata": {
  "kernelspec": {
   "display_name": "Python 3 (ipykernel)",
   "language": "python",
   "name": "python3"
  },
  "language_info": {
   "codemirror_mode": {
    "name": "ipython",
    "version": 3
   },
   "file_extension": ".py",
   "mimetype": "text/x-python",
   "name": "python",
   "nbconvert_exporter": "python",
   "pygments_lexer": "ipython3",
   "version": "3.9.7"
  }
 },
 "nbformat": 4,
 "nbformat_minor": 5
}

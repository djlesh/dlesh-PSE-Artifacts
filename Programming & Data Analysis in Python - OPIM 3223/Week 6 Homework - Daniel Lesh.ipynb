{
 "cells": [
  {
   "cell_type": "markdown",
   "id": "dc4bc3ad",
   "metadata": {},
   "source": [
    "## Question 1\n",
    "\n",
    "- Write a function called describe_city() that accepts the name of a city and the country it is in.\n",
    "- Pick a favorite city. If the function is called with that city name let the user know that is your favorite city otherwise default to another print statement.  \n",
    "- Give the parameter for the country a default value.\n"
   ]
  },
  {
   "cell_type": "code",
   "execution_count": 1,
   "id": "853c8a4c",
   "metadata": {},
   "outputs": [
    {
     "name": "stdout",
     "output_type": "stream",
     "text": [
      "New York is a nice city in USA\n"
     ]
    }
   ],
   "source": [
    "def describe_city(city_name, country_name = 'USA'):\n",
    "    \"\"\"I am describing city attributes\"\"\"\n",
    "    favorite_city = 'Boston'\n",
    "    if city_name == favorite_city: \n",
    "        print(f\"{city_name} is my favorite too\")\n",
    "    else: \n",
    "        print(f\"{city_name} is a nice city in {country_name}\") \n",
    "\n",
    "describe_city(\"New York\")"
   ]
  },
  {
   "cell_type": "markdown",
   "id": "649b9a6c",
   "metadata": {},
   "source": [
    "## Question 2 \n",
    "\n",
    "- Write a function that takes in 2 numbers as parameters and returns the two numbers added together.\n",
    "- Use the input() function to allow the user to provide you with these numbers.Then call your function and print out the result. \n",
    "- Use a while loop so that the user can keep providing you with sets of numbers. \n",
    "- Give the user the option to quit the program after each set of numbers they provide.  \n"
   ]
  },
  {
   "cell_type": "code",
   "execution_count": 2,
   "id": "e530d293",
   "metadata": {},
   "outputs": [
    {
     "name": "stdout",
     "output_type": "stream",
     "text": [
      "Provide your first number: 10\n",
      "Provide your second number: 22\n",
      "The numbers added together are equal to 32.\n",
      "If you would like to try again, please say yes. If not, please say no.yes\n",
      "Provide your first number: 13\n",
      "Provide your second number: 10\n",
      "The numbers added together are equal to 23.\n",
      "If you would like to try again, please say yes. If not, please say no.no\n"
     ]
    }
   ],
   "source": [
    "def two_numbers():\n",
    "    \"\"\"Add 2 numbers together\"\"\"\n",
    "    added_numbers = number_1 + number_2 \n",
    "    return added_numbers\n",
    "\n",
    "while True: \n",
    "    number_1 = int(input(\"Provide your first number: \"))\n",
    "    number_2 = int(input(\"Provide your second number: \"))\n",
    "    sum_of_numbers = two_numbers() \n",
    "    print(f\"The numbers added together are equal to {sum_of_numbers}.\")\n",
    "    \n",
    "    repeat_number_selection = input(\"If you would like to try again, please say yes. If not, please say no.\")\n",
    "    if repeat_number_selection.lower() == \"no\":\n",
    "        break\n",
    "    else:\n",
    "        continue    "
   ]
  },
  {
   "cell_type": "markdown",
   "id": "a474ccbb",
   "metadata": {},
   "source": [
    "## Question 3\n",
    "\n",
    "- Complete this problem using two or more functions.  \n",
    "- You work for a shipping company, due to a major storm anyone who has placed an order in CT needs to be notified that their order will be late. \n",
    "- Your customer information is stored in the customer_orders dictionary below. Add anyone who will receive a late order to a late_orders dictionary. \n",
    "- Print out the name and delivery date of everyone who has a late order. \n",
    "- Hint- To check if an order is in CT: if \"CT\" in address:\n",
    " "
   ]
  },
  {
   "cell_type": "code",
   "execution_count": 1,
   "id": "3e5b5e3d",
   "metadata": {},
   "outputs": [
    {
     "name": "stdout",
     "output_type": "stream",
     "text": [
      "We apologize for the delay in your order, John. Your expected delivery date is now July 5th.\n",
      "We apologize for the delay in your order, Melissa. Your expected delivery date is now July 8th.\n"
     ]
    }
   ],
   "source": [
    "customer_orders = {\n",
    "    'jsmith': {\n",
    "        'first name':'john',\n",
    "        'last name':'smith',\n",
    "        'address': '14 East Carolina Ave, Canton, CT',\n",
    "        'delivery date': 'July 5th'\n",
    "    },\n",
    "     'aeinstein': {\n",
    "        'first name':'albert',\n",
    "        'last name':'einstein',\n",
    "        'address': '18 UConn Lane, Johnstown, NY',\n",
    "        'delivery date': 'July 4th'\n",
    "    },\n",
    "     'mbrown': {\n",
    "        'first name':'melissa',\n",
    "        'last name':'browm',\n",
    "        'address': '1 Tower Lane, New Haven, CT',\n",
    "        'delivery date': 'July 8th'\n",
    "    },\n",
    "    'jrodriguez': {\n",
    "        'first name':'jim',\n",
    "        'last name':'rodriguez',\n",
    "        'address': '18 Avenue of the Americas, NYC, NY',\n",
    "        'delivery date': 'July 9th'\n",
    "    }\n",
    "}\n",
    "\n",
    "def ct_orders(customer_data):\n",
    "    if 'CT' in customer_data['address']:\n",
    "        return True\n",
    "    \n",
    "def validate_customers(customer_orders): \n",
    "    notify_customers = {} \n",
    "    for name, customer_data in customer_orders.items():\n",
    "        if ct_orders(customer_data):\n",
    "            notify_customers[name] = customer_data\n",
    "    return notify_customers\n",
    "\n",
    "notify_customers = validate_customers(customer_orders)\n",
    "for name, customer in notify_customers.items():\n",
    "    print(f\"We apologize for the delay in your order, {customer['first name'].title()}. Your expected delivery date is now {customer['delivery date']}.\") "
   ]
  }
 ],
 "metadata": {
  "kernelspec": {
   "display_name": "Python 3 (ipykernel)",
   "language": "python",
   "name": "python3"
  },
  "language_info": {
   "codemirror_mode": {
    "name": "ipython",
    "version": 3
   },
   "file_extension": ".py",
   "mimetype": "text/x-python",
   "name": "python",
   "nbconvert_exporter": "python",
   "pygments_lexer": "ipython3",
   "version": "3.9.7"
  }
 },
 "nbformat": 4,
 "nbformat_minor": 5
}

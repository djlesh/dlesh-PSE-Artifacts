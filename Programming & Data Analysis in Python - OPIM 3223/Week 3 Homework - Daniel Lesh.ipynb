{
 "cells": [
  {
   "cell_type": "markdown",
   "id": "9abc79fb",
   "metadata": {},
   "source": [
    "1) Range function\n",
    "- Use the range function to create a list of numbers from 1 to 100.\n",
    "- Create a second list with every number in your first list multiplied by 2.\n",
    "- Print the last 10 items in your second list."
   ]
  },
  {
   "cell_type": "code",
   "execution_count": 1,
   "id": "51ee439b",
   "metadata": {},
   "outputs": [
    {
     "name": "stdout",
     "output_type": "stream",
     "text": [
      "1\n",
      "2\n",
      "3\n",
      "4\n",
      "5\n",
      "6\n",
      "7\n",
      "8\n",
      "9\n",
      "10\n",
      "11\n",
      "12\n",
      "13\n",
      "14\n",
      "15\n",
      "16\n",
      "17\n",
      "18\n",
      "19\n",
      "20\n",
      "21\n",
      "22\n",
      "23\n",
      "24\n",
      "25\n",
      "26\n",
      "27\n",
      "28\n",
      "29\n",
      "30\n",
      "31\n",
      "32\n",
      "33\n",
      "34\n",
      "35\n",
      "36\n",
      "37\n",
      "38\n",
      "39\n",
      "40\n",
      "41\n",
      "42\n",
      "43\n",
      "44\n",
      "45\n",
      "46\n",
      "47\n",
      "48\n",
      "49\n",
      "50\n",
      "51\n",
      "52\n",
      "53\n",
      "54\n",
      "55\n",
      "56\n",
      "57\n",
      "58\n",
      "59\n",
      "60\n",
      "61\n",
      "62\n",
      "63\n",
      "64\n",
      "65\n",
      "66\n",
      "67\n",
      "68\n",
      "69\n",
      "70\n",
      "71\n",
      "72\n",
      "73\n",
      "74\n",
      "75\n",
      "76\n",
      "77\n",
      "78\n",
      "79\n",
      "80\n",
      "81\n",
      "82\n",
      "83\n",
      "84\n",
      "85\n",
      "86\n",
      "87\n",
      "88\n",
      "89\n",
      "90\n",
      "91\n",
      "92\n",
      "93\n",
      "94\n",
      "95\n",
      "96\n",
      "97\n",
      "98\n",
      "99\n",
      "100\n"
     ]
    }
   ],
   "source": [
    "# Use range function to create list from 1 - 100:  \n",
    "range(1,101)\n",
    "\n",
    "for number in range(1,101):\n",
    "        print(number)"
   ]
  },
  {
   "cell_type": "code",
   "execution_count": 16,
   "id": "ae54c753",
   "metadata": {},
   "outputs": [
    {
     "name": "stdout",
     "output_type": "stream",
     "text": [
      "[2, 4, 6, 8, 10, 12, 14, 16, 18, 20, 22, 24, 26, 28, 30, 32, 34, 36, 38, 40, 42, 44, 46, 48, 50, 52, 54, 56, 58, 60, 62, 64, 66, 68, 70, 72, 74, 76, 78, 80, 82, 84, 86, 88, 90, 92, 94, 96, 98, 100, 102, 104, 106, 108, 110, 112, 114, 116, 118, 120, 122, 124, 126, 128, 130, 132, 134, 136, 138, 140, 142, 144, 146, 148, 150, 152, 154, 156, 158, 160, 162, 164, 166, 168, 170, 172, 174, 176, 178, 180, 182, 184, 186, 188, 190, 192, 194, 196, 198, 200]\n",
      "[182, 184, 186, 188, 190, 192, 194, 196, 198, 200]\n"
     ]
    }
   ],
   "source": [
    "# Create a 2nd list with every number in your list multiplied by 2:\n",
    "ranges2 = [] \n",
    "\n",
    "for number in range(1,101): \n",
    "        range2 = number * 2 \n",
    "        ranges2.append(range2)\n",
    "print(ranges2)"
   ]
  },
  {
   "cell_type": "code",
   "execution_count": 18,
   "id": "18c28372",
   "metadata": {},
   "outputs": [
    {
     "name": "stdout",
     "output_type": "stream",
     "text": [
      "[182, 184, 186, 188, 190, 192, 194, 196, 198, 200]\n"
     ]
    }
   ],
   "source": [
    "# Print last 10 items in your second list: \n",
    "smaller_ranges2 = ranges2[90:]\n",
    "print(smaller_ranges2)"
   ]
  },
  {
   "cell_type": "markdown",
   "id": "0fe45edd",
   "metadata": {},
   "source": [
    "2) Tuples\n",
    "- What is a tuple? What does it mean for a value to be immutable?\n",
    "- Create a tuple with 5 numbers.\n",
    "- Loop through your tuple and print the number squared. "
   ]
  },
  {
   "cell_type": "code",
   "execution_count": 20,
   "id": "dce5cc61",
   "metadata": {},
   "outputs": [
    {
     "name": "stdout",
     "output_type": "stream",
     "text": [
      "<class 'tuple'>\n",
      "4\n",
      "16\n",
      "36\n",
      "64\n",
      "100\n"
     ]
    }
   ],
   "source": [
    "# What is a tuple?:\n",
    "    ## Tuple - A list that is immutable. Tuples are defined with parentheses(). \n",
    "    \n",
    "# What does it mean for a value to be immutable?:\n",
    "    ## Immutable - Values that cannot change. \n",
    "\n",
    "# Create a tuple with 5 numbers: \n",
    "do_not_change = (2, 4, 6, 8, 10)\n",
    "\n",
    "## Loop through tuple and print number squared. \n",
    "    # Since I cannot append a tuple, I can square each number in the print function:\n",
    "numbers = (2, 4, 6, 8, 10)\n",
    "print(type(numbers))\n",
    "\n",
    "for x in numbers: \n",
    "    print(x**2)"
   ]
  },
  {
   "cell_type": "markdown",
   "id": "9f0be51f",
   "metadata": {},
   "source": [
    "3)  Simulate how a website can determine if a username is available\n",
    "- You manage a website that requires a user to create an account to login. The following user names have already been created.\n",
    "- current_users = [‘jsmith’,’ctorres’,’bwynn’,’jproto’,’jhorowitz’]\n",
    "\n",
    "- Your manager sends you a list of new users who would like accounts to be created. You cannot have duplicate usernames so you decide to create a program to check if the new usernames are already created.\n",
    "- new_users = [‘wdamien’,’ctorres’,’forielly’,’JSMITH’,’ftorres’]\n",
    "\n",
    "- Loop through the new_user list to see if each username has already been used. If it has, print a message that the person will need to enter a new username. If a username has not been used, print a message saying that the username is available.\n",
    "- Make sure that your comparison is case insensitive. If ‘John’ has been used, ‘JOHN’ should not be accepted.\n",
    "- Make sure to check if the current_users list is empty. If it is empty print a message saying that your system is down and cannot identify the current users."
   ]
  },
  {
   "cell_type": "code",
   "execution_count": 2,
   "id": "2f6ad9b9",
   "metadata": {},
   "outputs": [
    {
     "name": "stdout",
     "output_type": "stream",
     "text": [
      "wdamien is available.\n",
      "Please enter a different username other than ctorres.\n",
      "forielly is available.\n",
      "Please enter a different username other than JSMITH.\n",
      "ftorres is available.\n"
     ]
    }
   ],
   "source": [
    "#### In this program, Python is looping through names in new_users to see if they match with current_users.\n",
    "    ### If they username matched in current_users, Python will output: (f\"{user} is available.\").\n",
    "        ## If they do no match, Python will output: (f\"{user} is available.\").\n",
    "            # If current_user is empty, Python will output: (f\"System is down and cannot identify the current {user}.\")\n",
    "        \n",
    "current_users = ['jsmith','ctorres','bwynn','jproto','jhorowitz']\n",
    "new_users = ['wdamien','ctorres','forielly','JSMITH','ftorres']\n",
    "\n",
    "if current_users:\n",
    "    for user in new_users: \n",
    "        if user.lower() in current_users:\n",
    "            print(f\"Please enter a different username other than {user}.\")\n",
    "        else:\n",
    "            print(f\"{user} is available.\")\n",
    "else:                 \n",
    "    print(f\"System is down and cannot identify the current {user}.\")\n",
    "    \n",
    "        \n",
    "current_users = ['jsmith','ctorres','bwynn','jproto','jhorowitz']\n",
    "new_users = ['wdamien','ctorres','forielly','JSMITH','ftorres']"
   ]
  }
 ],
 "metadata": {
  "kernelspec": {
   "display_name": "Python 3 (ipykernel)",
   "language": "python",
   "name": "python3"
  },
  "language_info": {
   "codemirror_mode": {
    "name": "ipython",
    "version": 3
   },
   "file_extension": ".py",
   "mimetype": "text/x-python",
   "name": "python",
   "nbconvert_exporter": "python",
   "pygments_lexer": "ipython3",
   "version": "3.9.7"
  }
 },
 "nbformat": 4,
 "nbformat_minor": 5
}

{
 "cells": [
  {
   "cell_type": "markdown",
   "id": "ede97c20",
   "metadata": {},
   "source": [
    "1) Programming Concepts\n",
    "- Think of 3 programming concepts you have learned about so far in this course. Use those concepts as keys in a dictionary and store the definition as dictionary values.\n",
    "- Loop through your dictionary and print out each concept on its own line and the meaning on a second line."
   ]
  },
  {
   "cell_type": "code",
   "execution_count": 1,
   "id": "d4c68a17",
   "metadata": {},
   "outputs": [
    {
     "name": "stdout",
     "output_type": "stream",
     "text": [
      "POP METHOD\n",
      "Pop method - Allows you to remove an item from a list and assign it to a variable.\n",
      "\n",
      "SORTED FUNCTIONS\n",
      "Sorted functions - Sorts the list (usually alphabetically) before assigning the keys to the variable you provide.\n",
      "\n",
      "NESTING\n",
      "Nesting - Places one or more objects in another object.\n",
      "\n"
     ]
    }
   ],
   "source": [
    "# Creating dictionary with all the programming concepts I have learned in the class so far:\n",
    "concepts = {'pop method':'Allows you to remove an item from a list and assign it to a variable',\n",
    "           'sorted functions': 'Sorts the list (usually alphabetically) before assigning the keys to the variable you provide',\n",
    "           'nesting': 'Places one or more objects in another object'}\n",
    "\n",
    "# Looping through dictionary and printing out each concept on its own line and meaning on a second line. \n",
    "for concept, definition in concepts.items():\n",
    "    print(f'{concept.upper()}')\n",
    "    print(f'{concept.capitalize()} - {definition}.\\n')"
   ]
  },
  {
   "cell_type": "markdown",
   "id": "1f8e5b71",
   "metadata": {},
   "source": [
    "2) Website Users\n",
    "- Create 3 dictionaries with information about users of a website and store these in a list.\n",
    "- Each dictionary should have a “first name”, “last name”, “age”, and “username”.\n",
    "- Loop through each dictionary in your list and print their “first name” and “last name”"
   ]
  },
  {
   "cell_type": "code",
   "execution_count": 6,
   "id": "165f98f1",
   "metadata": {},
   "outputs": [
    {
     "name": "stdout",
     "output_type": "stream",
     "text": [
      "<class 'dict'>\n",
      "Dan Leash\n",
      "\n",
      "<class 'dict'>\n",
      "Mike Gutto\n",
      "\n",
      "<class 'dict'>\n",
      "Craig Knomes\n",
      "\n"
     ]
    }
   ],
   "source": [
    "# Create 3 dictionaries with info about users of website (theverge.com).\n",
    "theverge_user1 = {'first_name': 'Dan',\n",
    "                 'last_name': 'Leash',\n",
    "                 'age': 44,\n",
    "                 'username': 'danleash'}\n",
    "\n",
    "theverge_user2 = {'first_name': 'Mike',\n",
    "                 'last_name': 'Gutto',\n",
    "                 'age': 22,\n",
    "                 'username': 'mgutto'}\n",
    "\n",
    "theverge_user3 = {'first_name': 'Craig',\n",
    "                 'last_name': 'Knomes',\n",
    "                 'age': 24,\n",
    "                 'username': 'craigk12'}\n",
    "\n",
    "# Store all users created in list:\n",
    "theverge_users = [theverge_user1, theverge_user2, theverge_user3]\n",
    "\n",
    "# Loop through each dictionary in list and print their \"first_name\" and \"last_name\":\n",
    "for user in theverge_users : \n",
    "    print(type(user))\n",
    "    print(user['first_name'], user['last_name'])\n",
    "    print(\"\")"
   ]
  },
  {
   "cell_type": "markdown",
   "id": "febcdc65",
   "metadata": {},
   "source": [
    "3) Favorite Game\n",
    "\n",
    "favorite_games ={\n",
    "    'jen': 'baseball',\n",
    "    'sarah': 'basketball',\n",
    "    'edward': 'soccer'\n",
    "}\n",
    "\n",
    "my_favorite_games = ['soccer','baseball']\n",
    "\n",
    "- Loop through the key-values in your dictionary. \n",
    "- If the game is also in your list print a message saying that the game is also your favorite. \n",
    "- Otherwise, print a message saying “That is a fun game too!”"
   ]
  },
  {
   "cell_type": "code",
   "execution_count": 7,
   "id": "0e6be634",
   "metadata": {},
   "outputs": [
    {
     "name": "stdout",
     "output_type": "stream",
     "text": [
      "Baseball is one of my favorite games!\n",
      "Basketball is a fun game too!\n",
      "Soccer is one of my favorite games!\n"
     ]
    }
   ],
   "source": [
    "# Create dictionary of favorite_games provided by problem:\n",
    "favorite_games = {'jen': 'baseball',\n",
    "                  'sarah': 'basketball',\n",
    "                  'edward': 'soccer'}\n",
    "\n",
    "# Create dictionary of my_favorite_games provided by problem:\n",
    "my_favorite_games = ['soccer', 'baseball']\n",
    "\n",
    "### Loop through each key-value pair specified in favorite_games.\n",
    "    ## If game is in my_favorite_games, print out message saying game is my favorite. \n",
    "        # If game is NOT in my_favorite_games, print out message saying \"That game is fun too!\"\n",
    "\n",
    "for first_name, game in favorite_games.items(): \n",
    "    if game in my_favorite_games:\n",
    "        print(f'{game.capitalize()} is one of my favorite games!')\n",
    "    else: \n",
    "        print(f'{game.capitalize()} is a fun game too!')"
   ]
  }
 ],
 "metadata": {
  "kernelspec": {
   "display_name": "Python 3 (ipykernel)",
   "language": "python",
   "name": "python3"
  },
  "language_info": {
   "codemirror_mode": {
    "name": "ipython",
    "version": 3
   },
   "file_extension": ".py",
   "mimetype": "text/x-python",
   "name": "python",
   "nbconvert_exporter": "python",
   "pygments_lexer": "ipython3",
   "version": "3.9.7"
  }
 },
 "nbformat": 4,
 "nbformat_minor": 5
}

{
 "cells": [
  {
   "cell_type": "markdown",
   "id": "a5c81dff",
   "metadata": {},
   "source": [
    "1) \n",
    "- Ask the user to input a number and let the user know if that number they provided is or is not a multiple of 10. (Multiples of 10 include: 10, 20, 30, 40, etc.)\n",
    "- The program should give the user the option to input another number unless they tell the program to quit."
   ]
  },
  {
   "cell_type": "code",
   "execution_count": null,
   "id": "00f78689",
   "metadata": {},
   "outputs": [],
   "source": [
    "# Build out prompt for program to run:\n",
    "prompt = \"Please input a number that is a multiple of 10: \"\n",
    "prompt += \"\\nEnter 'quit' if you would like to exit the program. \"\n",
    "\n",
    "# Signal program to start through use of flag:\n",
    "active = True \n",
    "\n",
    "while active: \n",
    "    user_number = input(prompt)\n",
    "    \n",
    "    if user_number == 'quit':\n",
    "        active = False\n",
    "    else:\n",
    "        number = int(user_number)\n",
    "        if number % 10 == 0: # Using modulo operator \n",
    "            print(f\"{number} is a multiple of 10.\")\n",
    "        else: \n",
    "            print(f\"{number} is not a multiple of 10.\")"
   ]
  },
  {
   "cell_type": "markdown",
   "id": "11ec6aac",
   "metadata": {},
   "source": [
    "2) \n",
    "- A movie theater charges different ticket prices depending on a person’s age.\n",
    "- If a person is under the age of 3 the ticket is free; if they are between 3 and 12 the ticket is 10 dollars; and if they are over the age of 12 dollars the ticket is 15 dollars.\n",
    "- Using a While loop ask for the users age and tell them the cost of their movie ticket.\n",
    "- The program should give the user the option to input another age unless they tell the program to quit."
   ]
  },
  {
   "cell_type": "code",
   "execution_count": null,
   "id": "55d1fdc6",
   "metadata": {},
   "outputs": [
    {
     "name": "stdout",
     "output_type": "stream",
     "text": [
      "How old are you? This will determine your ticket price.\n",
      " Enter 'quit' to stop program. 15\n",
      "Your ticket is $15.\n",
      "How old are you? This will determine your ticket price.\n",
      " Enter 'quit' to stop program. 10\n",
      "Your ticket is $10.\n"
     ]
    }
   ],
   "source": [
    "# Build out prompt for program to run:\n",
    "prompt = \"How old are you? This will determine your ticket price.\" \n",
    "prompt += \"\\n Enter 'quit' to stop program. \"\n",
    "\n",
    "# Begin loop by setting = True:\n",
    "loop = True \n",
    "\n",
    "while loop:\n",
    "    customer_age = input(prompt) # Use prompt above for the input\n",
    "      \n",
    "    if customer_age == 'quit':  \n",
    "        loop = False             # Quit program if customer enters == quit\n",
    "    else: \n",
    "        age = int(customer_age) # Create another variable 'age' and set it equal to int. of customer_age (basically if customer enters a number it can read it)\n",
    "        \n",
    "        if age < 3: \n",
    "            print(\"Your ticket is free!\") # Age < 3 = ticket it free\n",
    "        else:\n",
    "            if age <= 12:\n",
    "                 print(\"Your ticket is $10.\") # Age <=12 ticket is $10\n",
    "            else: \n",
    "                print(\"Your ticket is $15.\") # Age > 12 ticket is $15"
   ]
  },
  {
   "cell_type": "markdown",
   "id": "bfad1cb3",
   "metadata": {},
   "source": [
    "3)\n",
    "- You are provided with a list of countries.  Countries = [‘USA’, ‘Canada’, ‘England, ‘USA’]\n",
    "- Use a while loop to go through your list and remove all occurrences of ‘USA’.\n",
    "- Print out the remaining list of countries."
   ]
  },
  {
   "cell_type": "code",
   "execution_count": null,
   "id": "fb4aef0f",
   "metadata": {},
   "outputs": [],
   "source": [
    "# Build dictionary with list above: \n",
    "countries = ['USA', 'Canada', 'England', 'USA']\n",
    "\n",
    "# Display current dictionary: \n",
    "print(\"Current Countries:\", countries) \n",
    "\n",
    "# Use while loop to remove occurences of 'USA'\n",
    "while 'USA' in countries:\n",
    "    countries.remove('USA') # Removing 'USA' from dictionary \n",
    "\n",
    "# Print out new dictionary of countries with USA removed:\n",
    "print(\"Countries with USA removed:\", countries)"
   ]
  },
  {
   "cell_type": "markdown",
   "id": "d1fe80a3",
   "metadata": {},
   "source": [
    "4)\n",
    "- You are reviewing college applications to your school.\n",
    "- Use a while loop and ask the user for two inputs: student name and GPA. \n",
    "- If the user has a GPA less than 2.5 add them to a “wait list” dictionary otherwise place them into an “accepted students” dictionary.\n",
    "- After the while loop, print out the names of the students in each category (Wait List/ Accepted)."
   ]
  },
  {
   "cell_type": "code",
   "execution_count": 1,
   "id": "543f4cb1",
   "metadata": {},
   "outputs": [
    {
     "name": "stdout",
     "output_type": "stream",
     "text": [
      "What is your name? dan\n",
      "What is your current GPA? 2.1\n",
      "Would you like another person to respond? (yes or no) no\n",
      "\n",
      " ----- Accepted Students vs. Wait Listed Students -----\n",
      "\n",
      " Accepted Students:\n",
      "{}\n",
      "<class 'dict'>\n",
      "\n",
      " Wait Listed Students:\n",
      "{'dan': 2.1}\n",
      "<class 'dict'>\n"
     ]
    }
   ],
   "source": [
    "# Create open lists for accepted, wait listed, and responses:\n",
    "accepted_students = {}\n",
    "wait_listed_students = {}\n",
    "responses = {}\n",
    "\n",
    "# Begin program by setting it = to true\n",
    "active = True \n",
    "\n",
    "while active: \n",
    "    name = input(\"What is your name? \") # 1st input (asking for name)\n",
    "    gpa = float(input(\"What is your current GPA? \")) # 2nd input (asking for GPA), also setting to float to use decimal\n",
    "    \n",
    "    # Setting responses to name and GPA:\n",
    "    responses[name] = gpa\n",
    "    \n",
    "    # Building repeat function for other respondents: \n",
    "    repeat = input(\"Would you like another person to respond? (yes or no) \")\n",
    "    if repeat.lower() == 'no':\n",
    "        active = False # If they respond no, program quits\n",
    "\n",
    "# Building out results list and storing values in accepted and wait list lists \n",
    "print(\"\\n ----- Accepted Students vs. Wait Listed Students -----\")\n",
    "\n",
    "# Logic for how students names should be stored depending on GPA:\n",
    "for name, gpa in responses.items(): \n",
    "    if gpa < 2.5: # GPA < 2.5, add student to wait_listed_students\n",
    "        wait_listed_students[name] = gpa\n",
    "\n",
    "    else: \n",
    "        accepted_students[name] = gpa # GPA >= 2.5, add student to accepted_students\n",
    "\n",
    "print(\"\\n Accepted Students:\")\n",
    "print(accepted_students)\n",
    "print(type(accepted_students))\n",
    "\n",
    "print(\"\\n Wait Listed Students:\")   \n",
    "print(wait_listed_students)\n",
    "print(type(wait_listed_students))"
   ]
  }
 ],
 "metadata": {
  "kernelspec": {
   "display_name": "Python 3 (ipykernel)",
   "language": "python",
   "name": "python3"
  },
  "language_info": {
   "codemirror_mode": {
    "name": "ipython",
    "version": 3
   },
   "file_extension": ".py",
   "mimetype": "text/x-python",
   "name": "python",
   "nbconvert_exporter": "python",
   "pygments_lexer": "ipython3",
   "version": "3.9.7"
  }
 },
 "nbformat": 4,
 "nbformat_minor": 5
}

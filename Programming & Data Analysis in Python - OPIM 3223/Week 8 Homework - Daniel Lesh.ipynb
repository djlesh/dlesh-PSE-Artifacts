{
 "cells": [
  {
   "cell_type": "markdown",
   "id": "932096ac",
   "metadata": {},
   "source": [
    "## Question 1\n",
    "\n",
    "- Create a program that takes a list of text files and finds the file that has the largest number of unique words. \n",
    "- Test this function on the ['alice.txt', 'siddhartha.txt', 'moby_dick.txt', 'little_women.txt'] files in Course Content.\n",
    "- Include a try-except to handle an exception in case the file cannot be found.\n",
    "- Hint: First try creating a function that finds the unique words in one file."
   ]
  },
  {
   "cell_type": "code",
   "execution_count": 3,
   "id": "5f7b2abc",
   "metadata": {},
   "outputs": [],
   "source": [
    "text_files = ['alice.txt', 'siddhartha.txt', 'moby_dick.txt', 'little_women.txt']"
   ]
  },
  {
   "cell_type": "code",
   "execution_count": 1,
   "id": "7877a7a0",
   "metadata": {},
   "outputs": [
    {
     "name": "stdout",
     "output_type": "stream",
     "text": [
      "alice.txt contains 6018 unqiue words\n",
      "siddhartha.txt contains 6901 unqiue words\n",
      "moby_dick.txt contains 33587 unqiue words\n",
      "little_women.txt contains 21050 unqiue words\n",
      "moby_dick.txt has the highest unique word count of 33587\n"
     ]
    }
   ],
   "source": [
    "count_list = {}\n",
    "\n",
    "def unique_words(file):\n",
    "    try: \n",
    "        with open(file, encoding = 'utf-8') as f:\n",
    "            file_info = f.read()\n",
    "            \n",
    "    except FileNotFoundError:\n",
    "        pass\n",
    "    else:\n",
    "        \n",
    "        words = file_info.split()\n",
    "        word_list = list(words)\n",
    "        unique_word_list = []\n",
    "        unique = 0\n",
    "        for word in word_list:\n",
    "            if word in unique_word_list:\n",
    "                pass\n",
    "            else:\n",
    "                unique_word_list.append(word)\n",
    "                unique += 1\n",
    "        print(f\"{file} contains {unique} unqiue words\")\n",
    "        count_list[unique] = file\n",
    "\n",
    "        \n",
    "files = ['alice.txt', 'siddhartha.txt', 'moby_dick.txt', 'little_women.txt']        \n",
    "\n",
    "for file in files:\n",
    "    unique_words(file)\n",
    "max_value = max(count_list.keys())\n",
    "print(f\"{count_list[max_value]} has the highest unique word count of {max_value}\")"
   ]
  },
  {
   "cell_type": "markdown",
   "id": "d8bad5cd",
   "metadata": {},
   "source": [
    "## Question 2\n",
    "\n",
    "- For this question, use the code block in the Class 8 Jupyter Notebook file (Saving User Provided Data) as a starting point.\n",
    "- When the user provides a username, check to see if the username is already in the JSON file. If the user has already entered their username welcome them back, otherwise append their username to the JSON file and tell the user that you will remember them next time.\n",
    "- Do not override usernames in your file, the file should remember all the usernames you entered excluding duplicates. \n",
    "- Hint: Create a new function that checks if the username already exists."
   ]
  },
  {
   "cell_type": "code",
   "execution_count": 1,
   "id": "4c4d1cb6",
   "metadata": {},
   "outputs": [
    {
     "name": "stdout",
     "output_type": "stream",
     "text": [
      "What is your username?danny \n",
      "Welcome danny . We will remember you next time!\n"
     ]
    }
   ],
   "source": [
    "import json\n",
    "\n",
    "def get_new_username():\n",
    "    \"\"\"Prompt for a new username.\"\"\"\n",
    "    userresponse = input(\"What is your username?\")\n",
    "    return userresponse \n",
    "    \n",
    "def save_username(username):\n",
    "    \"\"\"Save the username to your json file\"\"\"\n",
    "    filename = 'username.json'\n",
    "    with open(filename, 'a') as f: \n",
    "        json.dump(username, f) \n",
    "\n",
    "def check_if_name_exists(username): \n",
    "    filename = 'username.json'\n",
    "    with open(filename, 'r') as f: \n",
    "        contents = f.read() \n",
    "        if username in contents:\n",
    "            return True \n",
    "\n",
    "def greet_user():\n",
    "    \"\"\"Greet the user by name.\"\"\"\n",
    "    username = get_new_username() \n",
    "    if check_if_name_exists(username):\n",
    "        print(f\"Welcome back {username}!\")\n",
    "    else:\n",
    "        save_username(username) \n",
    "        print(f\"Welcome {username}. We will remember you next time!\")\n",
    "\n",
    "greet_user()"
   ]
  }
 ],
 "metadata": {
  "kernelspec": {
   "display_name": "Python 3 (ipykernel)",
   "language": "python",
   "name": "python3"
  },
  "language_info": {
   "codemirror_mode": {
    "name": "ipython",
    "version": 3
   },
   "file_extension": ".py",
   "mimetype": "text/x-python",
   "name": "python",
   "nbconvert_exporter": "python",
   "pygments_lexer": "ipython3",
   "version": "3.9.7"
  }
 },
 "nbformat": 4,
 "nbformat_minor": 5
}

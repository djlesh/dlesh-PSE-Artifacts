{
 "cells": [
  {
   "cell_type": "markdown",
   "id": "030c42c3",
   "metadata": {},
   "source": [
    "## Problem #1 \n",
    "- Create two variables, one for your first name and another for your last name.\n",
    "- Concatenate (combine) the two variables into a “full_name” variable.\n",
    "- Add a print statement that prints out your “full_name” variable with an additional message of your choice using f-strings."
   ]
  },
  {
   "cell_type": "code",
   "execution_count": 1,
   "id": "662a9711",
   "metadata": {},
   "outputs": [
    {
     "name": "stdout",
     "output_type": "stream",
     "text": [
      "Hello, my full_name is Daniel Lesh.\n"
     ]
    }
   ],
   "source": [
    "# Create two variables.\n",
    "first_name = \"Daniel\"\n",
    "last_name = \"Lesh\" \n",
    "\n",
    "# Concatenate the 2 variables.\n",
    "full_name = f\"{first_name} {last_name}\"\n",
    "\n",
    "# Print statement.\n",
    "print(f\"Hello, my full_name is {full_name}.\")"
   ]
  },
  {
   "cell_type": "markdown",
   "id": "83f97164",
   "metadata": {},
   "source": [
    "## Problem #2 \n",
    "- Assign your favorite number to a variable.\n",
    "- Using that variable, print a message that includes your number variable and why it is your favorite number."
   ]
  },
  {
   "cell_type": "code",
   "execution_count": 2,
   "id": "d7b2e4d2",
   "metadata": {},
   "outputs": [
    {
     "name": "stdout",
     "output_type": "stream",
     "text": [
      "My favorite number is 44 because it was my senior year football number. I also think it looks really cool on a jersey.\n"
     ]
    }
   ],
   "source": [
    "# Assign favorite number.\n",
    "fav_number = 44\n",
    "\n",
    "# Print favorite number in statement.\n",
    "print(f\"My favorite number is {fav_number} because it was my senior year football number. I also think it looks really cool on a jersey.\")"
   ]
  },
  {
   "cell_type": "markdown",
   "id": "e25c44ca",
   "metadata": {},
   "source": [
    "## Problem #3\n",
    "- Create a list of your 5 favorite foods.\n",
    "- Sort this list in alphabetical order.\n",
    "- Iterate through each item in your list and print out the item.\n",
    "- After your loop print a final message that only appears once"
   ]
  },
  {
   "cell_type": "code",
   "execution_count": 3,
   "id": "51ea7a09",
   "metadata": {},
   "outputs": [
    {
     "name": "stdout",
     "output_type": "stream",
     "text": [
      "['burgers', \"mac n' cheese\", 'pizza', 'sushi', 'tacos']\n",
      "burgers\n",
      "mac n' cheese\n",
      "pizza\n",
      "sushi\n",
      "tacos\n",
      "My favorite food is tacos.\n"
     ]
    }
   ],
   "source": [
    "# List of 5 favorite foods. \n",
    "fav_foods =[\"sushi\", \"pizza\", \"mac n' cheese\", \"burgers\", \"tacos\"]\n",
    "\n",
    "# Sort list in alphabetical order. \n",
    "fav_foods.sort()\n",
    "print(fav_foods)\n",
    "\n",
    "# Iterate through each item in list.\n",
    "for fav_food in fav_foods: \n",
    "    print(fav_food)\n",
    "\n",
    "# Print out final statement. \n",
    "print(f\"My favorite food is {fav_food}.\")"
   ]
  },
  {
   "cell_type": "markdown",
   "id": "f6b5687b",
   "metadata": {},
   "source": [
    "## Problem #4 \n",
    "- Create a program which finds the longest word in the list below. The code should print out the longest word.\n",
    "- my_list = [“hello”, “goodbye”, “washington”, “connecticut”]\n"
   ]
  },
  {
   "cell_type": "code",
   "execution_count": 4,
   "id": "661c1dea",
   "metadata": {},
   "outputs": [
    {
     "name": "stdout",
     "output_type": "stream",
     "text": [
      "connecticut\n"
     ]
    }
   ],
   "source": [
    "# Declare List. \n",
    "my_list = [\"hello\", \"goodbye\", \"washington\", \"connecticut\"]\n",
    "\n",
    "# Set longest word and length\n",
    "longest_word = \"\"\n",
    "longest_length = 0 \n",
    "\n",
    "# Iterate through words\n",
    "for item in my_list: \n",
    "    if len(item) >= longest_length:\n",
    "            longest_word = item\n",
    "\n",
    "# Print longest_word\n",
    "print(longest_word)"
   ]
  }
 ],
 "metadata": {
  "kernelspec": {
   "display_name": "Python 3 (ipykernel)",
   "language": "python",
   "name": "python3"
  },
  "language_info": {
   "codemirror_mode": {
    "name": "ipython",
    "version": 3
   },
   "file_extension": ".py",
   "mimetype": "text/x-python",
   "name": "python",
   "nbconvert_exporter": "python",
   "pygments_lexer": "ipython3",
   "version": "3.9.7"
  }
 },
 "nbformat": 4,
 "nbformat_minor": 5
}
